{
 "cells": [
  {
   "cell_type": "code",
   "execution_count": null,
   "id": "75753ab5",
   "metadata": {},
   "outputs": [],
   "source": [
    "import numpy as np\n",
    "import tensorflow as tf\n",
    "import pickle\n",
    "from matplotlib import pyplot as plt\n",
    "\n",
    "import shutil\n",
    "import os\n",
    "\n",
    "\n",
    "from model.models_cstm import get_embedding_model\n",
    "from model.train_model import train_siamese_model\n"
   ]
  },
  {
   "cell_type": "markdown",
   "id": "84d29c4c",
   "metadata": {},
   "source": [
    "## Get Qiita Data"
   ]
  },
  {
   "cell_type": "code",
   "execution_count": null,
   "id": "0852b2f6",
   "metadata": {},
   "outputs": [],
   "source": [
    "!wget https://www.dropbox.com/s/mv546rx259tgwaz/qiita_numpy.pkl"
   ]
  },
  {
   "cell_type": "code",
   "execution_count": null,
   "id": "5caa745a",
   "metadata": {},
   "outputs": [],
   "source": [
    "cwd = os.getcwd()\n",
    "shutil.move(f\"{cwd}/qiita_numpy.pkl\", f\"{cwd}/data/qiita/qiita_numpy.pkl\")"
   ]
  },
  {
   "cell_type": "markdown",
   "id": "35611369",
   "metadata": {},
   "source": [
    "## Load Qiita Dataset"
   ]
  },
  {
   "cell_type": "code",
   "execution_count": null,
   "id": "28efd252",
   "metadata": {},
   "outputs": [],
   "source": [
    "# Load QIITA dataset.\n",
    "((X_train, X_test, X_val), (y_train, y_test, y_val)) = pickle.load(open(f\"{cwd}/data/qiita/qiita_numpy.pkl\", \"rb\"))"
   ]
  },
  {
   "cell_type": "markdown",
   "id": "deca909d",
   "metadata": {},
   "source": [
    "## Train Siamese Model"
   ]
  },
  {
   "cell_type": "code",
   "execution_count": null,
   "id": "ad9b66f2",
   "metadata": {},
   "outputs": [],
   "source": [
    "# Train and Test Siamese Model\n",
    "embedding = get_embedding_model()\n",
    "data = ((X_train[:1000], X_test, X_val[:1000]), (y_train[:1000,:1000], y_test, y_val[:1000,:1000]))\n",
    "\n",
    "model, history = train_siamese_model(data, embedding, 'euclidean', batch_size=256, epochs=15)"
   ]
  },
  {
   "cell_type": "markdown",
   "id": "4a572f2a",
   "metadata": {},
   "source": [
    "## Visualize Loss "
   ]
  },
  {
   "cell_type": "code",
   "execution_count": null,
   "id": "66dfc62b",
   "metadata": {},
   "outputs": [],
   "source": [
    "plt.plot(history.history['loss'])\n",
    "plt.plot(history.history['val_loss'])\n",
    "plt.title('model accuracy')\n",
    "plt.ylabel('loss')\n",
    "plt.xlabel('epoch')\n",
    "plt.legend(['train', 'val'], loc='upper left')\n",
    "plt.show()"
   ]
  },
  {
   "cell_type": "code",
   "execution_count": null,
   "id": "b05d4bd0",
   "metadata": {},
   "outputs": [],
   "source": []
  },
  {
   "cell_type": "code",
   "execution_count": null,
   "id": "1d417341",
   "metadata": {},
   "outputs": [],
   "source": []
  }
 ],
 "metadata": {
  "kernelspec": {
   "display_name": "Python 3 (ipykernel)",
   "language": "python",
   "name": "python3"
  },
  "language_info": {
   "codemirror_mode": {
    "name": "ipython",
    "version": 3
   },
   "file_extension": ".py",
   "mimetype": "text/x-python",
   "name": "python",
   "nbconvert_exporter": "python",
   "pygments_lexer": "ipython3",
   "version": "3.8.11"
  }
 },
 "nbformat": 4,
 "nbformat_minor": 5
}
