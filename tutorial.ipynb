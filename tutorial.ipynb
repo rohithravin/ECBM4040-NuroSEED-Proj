{
 "cells": [
  {
   "cell_type": "code",
   "execution_count": 1,
   "id": "7a505f56",
   "metadata": {},
   "outputs": [],
   "source": [
    "import numpy as np\n",
    "import tensorflow as tf\n",
    "import pickle\n",
    "from matplotlib import pyplot as plt\n",
    "\n",
    "import shutil\n",
    "import os\n",
    "\n",
    "\n",
    "from model.models_cstm import get_embedding_model\n",
    "from model.train_model import train_siamese_model\n"
   ]
  },
  {
   "cell_type": "markdown",
   "id": "1b6e223a",
   "metadata": {},
   "source": [
    "## Get Qiita Data"
   ]
  },
  {
   "cell_type": "code",
   "execution_count": 2,
   "id": "bc9f3423",
   "metadata": {},
   "outputs": [
    {
     "name": "stdout",
     "output_type": "stream",
     "text": [
      "--2021-12-15 23:17:45--  https://www.dropbox.com/s/mv546rx259tgwaz/qiita_numpy.pkl\n",
      "Resolving www.dropbox.com (www.dropbox.com)... 162.125.4.18\n",
      "Connecting to www.dropbox.com (www.dropbox.com)|162.125.4.18|:443... connected.\n",
      "HTTP request sent, awaiting response... 301 Moved Permanently\n",
      "Location: /s/raw/mv546rx259tgwaz/qiita_numpy.pkl [following]\n",
      "--2021-12-15 23:17:46--  https://www.dropbox.com/s/raw/mv546rx259tgwaz/qiita_numpy.pkl\n",
      "Reusing existing connection to www.dropbox.com:443.\n",
      "HTTP request sent, awaiting response... 302 Found\n",
      "Location: https://uc6cf73d0712ecf8837e08861479.dl.dropboxusercontent.com/cd/0/inline/Bb4BC6XWxXeoCRk4M9OX7_rA06rMymQbLeAIDKDmWJpPxdPSet-0xQzwDbJ_5Oe27TJLzHGeW1jR5yiLLN61_jYAQrnNjgZRlhEHmGW_YDwPPcJMH3hecdsvjDgFt6m7tDYevNWFFMDhpig6X18FeLbU/file# [following]\n",
      "--2021-12-15 23:17:46--  https://uc6cf73d0712ecf8837e08861479.dl.dropboxusercontent.com/cd/0/inline/Bb4BC6XWxXeoCRk4M9OX7_rA06rMymQbLeAIDKDmWJpPxdPSet-0xQzwDbJ_5Oe27TJLzHGeW1jR5yiLLN61_jYAQrnNjgZRlhEHmGW_YDwPPcJMH3hecdsvjDgFt6m7tDYevNWFFMDhpig6X18FeLbU/file\n",
      "Resolving uc6cf73d0712ecf8837e08861479.dl.dropboxusercontent.com (uc6cf73d0712ecf8837e08861479.dl.dropboxusercontent.com)... 162.125.4.15\n",
      "Connecting to uc6cf73d0712ecf8837e08861479.dl.dropboxusercontent.com (uc6cf73d0712ecf8837e08861479.dl.dropboxusercontent.com)|162.125.4.15|:443... connected.\n",
      "HTTP request sent, awaiting response... 200 OK\n",
      "Length: 218147622 (208M) [text/plain]\n",
      "Saving to: ‘qiita_numpy.pkl’\n",
      "\n",
      "qiita_numpy.pkl     100%[===================>] 208.04M  36.5MB/s    in 5.6s    \n",
      "\n",
      "2021-12-15 23:17:52 (36.9 MB/s) - ‘qiita_numpy.pkl’ saved [218147622/218147622]\n",
      "\n"
     ]
    }
   ],
   "source": [
    "!wget https://www.dropbox.com/s/mv546rx259tgwaz/qiita_numpy.pkl"
   ]
  },
  {
   "cell_type": "code",
   "execution_count": 3,
   "id": "ae0760c9",
   "metadata": {},
   "outputs": [
    {
     "data": {
      "text/plain": [
       "'/Users/rohithravin/Github/ECBM4040-NuroSEED-Proj/data/qiita/qiita_numpy.pkl'"
      ]
     },
     "execution_count": 3,
     "metadata": {},
     "output_type": "execute_result"
    }
   ],
   "source": [
    "cwd = os.getcwd()\n",
    "shutil.move(f\"{cwd}/qiita_numpy.pkl\", f\"{cwd}/data/qiita/qiita_numpy.pkl\")"
   ]
  },
  {
   "cell_type": "markdown",
   "id": "25b7047c",
   "metadata": {},
   "source": [
    "## Load Qiita Dataset"
   ]
  },
  {
   "cell_type": "code",
   "execution_count": 4,
   "id": "d51df051",
   "metadata": {},
   "outputs": [],
   "source": [
    "# Load QIITA dataset.\n",
    "((X_train, X_test, X_val), (y_train, y_test, y_val)) = pickle.load(open(f\"{cwd}/data/qiita/qiita_numpy.pkl\", \"rb\"))"
   ]
  },
  {
   "cell_type": "markdown",
   "id": "2b645348",
   "metadata": {},
   "source": [
    "## Train Siamese Model"
   ]
  },
  {
   "cell_type": "code",
   "execution_count": 5,
   "id": "07b0612b",
   "metadata": {},
   "outputs": [
    {
     "name": "stderr",
     "output_type": "stream",
     "text": [
      "2021-12-15 23:17:52.366690: I tensorflow/compiler/jit/xla_cpu_device.cc:41] Not creating XLA devices, tf_xla_enable_xla_devices not set\n",
      "2021-12-15 23:17:52.366945: I tensorflow/core/platform/cpu_feature_guard.cc:142] This TensorFlow binary is optimized with oneAPI Deep Neural Network Library (oneDNN) to use the following CPU instructions in performance-critical operations:  AVX2 FMA\n",
      "To enable them in other operations, rebuild TensorFlow with the appropriate compiler flags.\n"
     ]
    },
    {
     "name": "stdout",
     "output_type": "stream",
     "text": [
      "Epoch 1/5\n",
      "  12/1951 [..............................] - ETA: 19s - loss: 5313.4985"
     ]
    },
    {
     "name": "stderr",
     "output_type": "stream",
     "text": [
      "2021-12-15 23:17:53.012213: I tensorflow/compiler/mlir/mlir_graph_optimization_pass.cc:116] None of the MLIR optimization passes are enabled (registered 2)\n"
     ]
    },
    {
     "name": "stdout",
     "output_type": "stream",
     "text": [
      "1951/1951 [==============================] - 20s 10ms/step - loss: 5120.0703 - val_loss: 4552.0190\n",
      "Epoch 2/5\n",
      "1951/1951 [==============================] - 20s 10ms/step - loss: 3756.1121 - val_loss: 2606.6050\n",
      "Epoch 3/5\n",
      "1951/1951 [==============================] - 20s 10ms/step - loss: 1975.8113 - val_loss: 1492.3372\n",
      "Epoch 4/5\n",
      "1951/1951 [==============================] - 20s 10ms/step - loss: 1362.4674 - val_loss: 1153.7324\n",
      "Epoch 5/5\n",
      "1951/1951 [==============================] - 20s 10ms/step - loss: 1109.9825 - val_loss: 961.6848\n",
      "4391/4391 [==============================] - 17s 4ms/step - loss: 1007.5835\n",
      "Score: 1007.58349609375\n"
     ]
    }
   ],
   "source": [
    "# Train and Test Siamese Model\n",
    "embedding = get_embedding_model()\n",
    "data = ((X_train[:1000], X_test, X_val[:1000]), (y_train[:1000,:1000], y_test, y_val[:1000,:1000]))\n",
    "\n",
    "model, history = train_siamese_model(data, embedding, 'euclidean', batch_size=256, epochs=5)"
   ]
  },
  {
   "cell_type": "markdown",
   "id": "99e4fa79",
   "metadata": {},
   "source": [
    "## Visualize Loss "
   ]
  },
  {
   "cell_type": "code",
   "execution_count": 6,
   "id": "8a735cee",
   "metadata": {},
   "outputs": [
    {
     "data": {
      "image/png": "[encoded data removed]",
      "text/plain": [
       "<Figure size 432x288 with 1 Axes>"
      ]
     },
     "metadata": {
      "needs_background": "light"
     },
     "output_type": "display_data"
    }
   ],
   "source": [
    "plt.plot(history.history['loss'])\n",
    "plt.plot(history.history['val_loss'])\n",
    "plt.title('model accuracy')\n",
    "plt.ylabel('loss')\n",
    "plt.xlabel('epoch')\n",
    "plt.legend(['train', 'val'], loc='upper left')\n",
    "plt.show()"
   ]
  },
  {
   "cell_type": "code",
   "execution_count": null,
   "id": "d982a287",
   "metadata": {},
   "outputs": [],
   "source": []
  },
  {
   "cell_type": "code",
   "execution_count": null,
   "id": "f7970013",
   "metadata": {},
   "outputs": [],
   "source": []
  }
 ],
 "metadata": {
  "kernelspec": {
   "display_name": "Python 3 (ipykernel)",
   "language": "python",
   "name": "python3"
  },
  "language_info": {
   "codemirror_mode": {
    "name": "ipython",
    "version": 3
   },
   "file_extension": ".py",
   "mimetype": "text/x-python",
   "name": "python",
   "nbconvert_exporter": "python",
   "pygments_lexer": "ipython3",
   "version": "3.8.11"
  }
 },
 "nbformat": 4,
 "nbformat_minor": 5
}
