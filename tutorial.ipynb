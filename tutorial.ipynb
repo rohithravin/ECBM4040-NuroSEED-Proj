{
 "cells": [
  {
   "cell_type": "markdown",
   "id": "c016345f",
   "metadata": {},
   "source": [
    "# ECBM 4040 Fall '21 Project  - BIOM Group\n",
    "# Tutorial displaying core NeuroSEED replication software functionality\n",
    "\n",
    "This tutorial goes through a basic replication of the original paper. We go through \n",
    "1. Imports\n",
    "2. Data\n",
    "3. Creating Model\n",
    "4. Training Model\n",
    "5. Showing Results"
   ]
  },
  {
   "cell_type": "markdown",
   "id": "638cf1a6",
   "metadata": {},
   "source": [
    "## Initialization\n",
    "\n",
    "Below are the imports we require to run the model"
   ]
  },
  {
   "cell_type": "code",
   "execution_count": 4,
   "id": "a09d5361",
   "metadata": {},
   "outputs": [],
   "source": [
    "import numpy as np\n",
    "import tensorflow as tf\n",
    "import pickle\n",
    "from matplotlib import pyplot as plt\n",
    "\n",
    "import shutil\n",
    "import os\n",
    "\n",
    "# this custom import create our embedding model\n",
    "from model.models_cstm import get_embedding_model\n",
    "\n",
    "# this custom imports is a method call where we custom train and build our model \n",
    "# all the specifications of our model and training are abstracted in this method\n",
    "from model.train_model import train_siamese_model\n"
   ]
  },
  {
   "cell_type": "code",
   "execution_count": 5,
   "id": "eec42589",
   "metadata": {},
   "outputs": [],
   "source": [
    "DISTANCE_METRICS = {\n",
    "    'EUCLIDEAN': 'euclidean',\n",
    "    'HYPERBOLIC': 'hyperbolic',\n",
    "    'MANHATTAN': 'manhattan',\n",
    "    'SQUARE': 'square',\n",
    "    'COSINE': 'cosine'\n",
    "}"
   ]
  },
  {
   "cell_type": "code",
   "execution_count": 6,
   "id": "667d55bd",
   "metadata": {},
   "outputs": [],
   "source": [
    "# set random number seeds for reproducible results\n",
    "np.random.seed(1)\n",
    "tf.random.set_seed(1)"
   ]
  },
  {
   "cell_type": "markdown",
   "id": "f4ad4aae",
   "metadata": {},
   "source": [
    "## Get Qiita Data\n",
    "\n",
    "Here we get our data from a Dropbox folder that contains all our data for this project. The README for this repo has a link where you can view the folder "
   ]
  },
  {
   "cell_type": "code",
   "execution_count": 7,
   "id": "99f6cee0",
   "metadata": {},
   "outputs": [],
   "source": [
    "cwd = os.getcwd()\n",
    "if not os.path.exists(f\"{cwd}/data/qiita/qiita_numpy.pkl\"):\n",
    "    !wget https://www.dropbox.com/s/mv546rx259tgwaz/qiita_numpy.pkl\n",
    "    shutil.move(f\"{cwd}/qiita_numpy.pkl\", f\"{cwd}/data/qiita/qiita_numpy.pkl\")"
   ]
  },
  {
   "cell_type": "markdown",
   "id": "2f24c59e",
   "metadata": {},
   "source": [
    "## Load Qiita Dataset"
   ]
  },
  {
   "cell_type": "code",
   "execution_count": 8,
   "id": "cfbb0de6",
   "metadata": {},
   "outputs": [],
   "source": [
    "# Load QIITA dataset.\n",
    "((X_train, X_test, X_val), (y_train, y_test, y_val)) = pickle.load(open(f\"{cwd}/data/qiita/qiita_numpy.pkl\", \"rb\"))"
   ]
  },
  {
   "cell_type": "markdown",
   "id": "cc92e9df",
   "metadata": {},
   "source": [
    "## Train Siamese Model"
   ]
  },
  {
   "cell_type": "code",
   "execution_count": 9,
   "id": "efc5c110",
   "metadata": {},
   "outputs": [
    {
     "name": "stdout",
     "output_type": "stream",
     "text": [
      "Model: \"sequential_1\"\n",
      "_________________________________________________________________\n",
      "Layer (type)                 Output Shape              Param #   \n",
      "=================================================================\n",
      "dropout_1 (Dropout)          (None, 152)               0         \n",
      "_________________________________________________________________\n",
      "one_hot_encoding_layer_1 (On (None, 152, 4)            0         \n",
      "_________________________________________________________________\n",
      "flatten_1 (Flatten)          (None, 608)               0         \n",
      "_________________________________________________________________\n",
      "dense_3 (Dense)              (None, 128)               77952     \n",
      "_________________________________________________________________\n",
      "dense_4 (Dense)              (None, 128)               16512     \n",
      "_________________________________________________________________\n",
      "dense_5 (Dense)              (None, 128)               16512     \n",
      "=================================================================\n",
      "Total params: 110,976\n",
      "Trainable params: 110,976\n",
      "Non-trainable params: 0\n",
      "_________________________________________________________________\n"
     ]
    }
   ],
   "source": [
    "# this is a basic linear embedding model that we use to replicate the model built in the paper\n",
    "# notice we one-hot the data as part of the model and not part the preprocessing\n",
    "embedding = get_embedding_model(model_choice='MLP')\n",
    "embedding.summary()"
   ]
  },
  {
   "cell_type": "code",
   "execution_count": 11,
   "id": "2b3b768a",
   "metadata": {},
   "outputs": [
    {
     "name": "stdout",
     "output_type": "stream",
     "text": [
      "Epoch 1/3\n",
      "23922/23922 [==============================] - 462s 19ms/step - loss: 20.7250 - val_loss: 26.2674\n",
      "Epoch 2/3\n",
      "23922/23922 [==============================] - 438s 18ms/step - loss: 11.2344 - val_loss: 22.3760\n",
      "Epoch 3/3\n",
      "23922/23922 [==============================] - 449s 19ms/step - loss: 9.2633 - val_loss: 20.6458\n",
      "1097/1097 [==============================] - 10s 9ms/step - loss: 21.5650\n"
     ]
    }
   ],
   "source": [
    "# Train and Test Siamese Model\n",
    "\n",
    "data = ((X_train, X_test, X_val), (y_train, y_test, y_val))\n",
    "dist = DISTANCE_METRICS['MANHATTAN']\n",
    "\n",
    "model, score, history = train_siamese_model(data, embedding, dist , batch_size=1024, epochs=3)"
   ]
  },
  {
   "cell_type": "code",
   "execution_count": 14,
   "id": "b6bb1dfe",
   "metadata": {},
   "outputs": [
    {
     "name": "stdout",
     "output_type": "stream",
     "text": [
      "Score for Siamese Model using manhattan distance: 21.564983367919922\n"
     ]
    }
   ],
   "source": [
    "print(f'Score for Siamese Model using {dist} distance: {score}')"
   ]
  },
  {
   "cell_type": "markdown",
   "id": "4aafa6c4",
   "metadata": {},
   "source": [
    "## Visualize Loss \n",
    "\n",
    "Here we visualize the loss the of the model, notice that this model under only 3 epochs makes quite and improvement with the edit distance task. "
   ]
  },
  {
   "cell_type": "code",
   "execution_count": 15,
   "id": "be46f942",
   "metadata": {},
   "outputs": [
    {
     "data": {
      "image/png": "[encoded data removed]",
      "text/plain": [
       "<Figure size 432x288 with 1 Axes>"
      ]
     },
     "metadata": {
      "needs_background": "light"
     },
     "output_type": "display_data"
    }
   ],
   "source": [
    "plt.plot(history.history['loss'])\n",
    "plt.plot(history.history['val_loss'])\n",
    "plt.title('model loss')\n",
    "plt.ylabel('loss')\n",
    "plt.xlabel('epoch')\n",
    "plt.legend(['train', 'val'], loc='upper left')\n",
    "plt.show()"
   ]
  },
  {
   "cell_type": "code",
   "execution_count": null,
   "id": "088cd98d",
   "metadata": {},
   "outputs": [],
   "source": []
  }
 ],
 "metadata": {
  "kernelspec": {
   "display_name": "Python 3 (ipykernel)",
   "language": "python",
   "name": "python3"
  },
  "language_info": {
   "codemirror_mode": {
    "name": "ipython",
    "version": 3
   },
   "file_extension": ".py",
   "mimetype": "text/x-python",
   "name": "python",
   "nbconvert_exporter": "python",
   "pygments_lexer": "ipython3",
   "version": "3.8.11"
  }
 },
 "nbformat": 4,
 "nbformat_minor": 5
}
