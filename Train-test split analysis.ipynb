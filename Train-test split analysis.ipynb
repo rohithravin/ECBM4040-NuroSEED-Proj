{
 "cells": [
  {
   "cell_type": "markdown",
   "id": "0b1844b0",
   "metadata": {},
   "source": [
    "# Imports and definitions"
   ]
  },
  {
   "cell_type": "code",
   "execution_count": 7,
   "id": "d265d733",
   "metadata": {},
   "outputs": [
    {
     "name": "stdout",
     "output_type": "stream",
     "text": [
      "The autoreload extension is already loaded. To reload it, use:\n",
      "  %reload_ext autoreload\n"
     ]
    }
   ],
   "source": [
    "%load_ext autoreload\n",
    "\n",
    "import pickle\n",
    "import pandas as pd\n",
    "import tensorflow as tf\n",
    "\n",
    "from utils.preprocessing import process_seqs\n",
    "from model.train_model import train_siamese_model\n",
    "from model.models_cstm import get_embedding_model\n",
    "\n",
    "\n",
    "def test_split(seqs_path, y_path, depth):\n",
    "    \"\"\"\n",
    "    Helper function for generating cladistic train-test split analysis. The idea is to vary the depth,\n",
    "    keeping other variables consistent. \n",
    "    \"\"\"\n",
    "    # Load data from known y matrix\n",
    "    data = process_seqs(\n",
    "        seqs_path=seqs_path,\n",
    "        train_test_split='distance',\n",
    "        split_depth=depth,\n",
    "        test_size=0.2,\n",
    "        val_size=0.2,\n",
    "        load_y=y_path,\n",
    "        verbose=True\n",
    "    )\n",
    "    \n",
    "    # Get input/output sizes\n",
    "    in_dim = data[0][0].shape[1]\n",
    "    hidden_dim = int(in_dim * 0.75)\n",
    "    out_dim = int(in_dim * 0.5)\n",
    "    \n",
    "    # Specifying model this way keeps hyperparameters consistent\n",
    "#     optimizer = tf.keras.optimizers.Adam(\n",
    "#         learning_rate=1e-2, \n",
    "#     )\n",
    "    optimizer = tf.keras.optimizers.Adam( # hyperbolic hyperparams\n",
    "        learning_rate=1,\n",
    "        clipnorm=1\n",
    "    )\n",
    "    model, score, history = train_siamese_model(\n",
    "        data,\n",
    "        embedding_model=get_embedding_model(\n",
    "            in_dim=in_dim, \n",
    "            out_dim=out_dim,\n",
    "            model_choice='LINEAR',\n",
    "#             mlp_num_units_hidden=hidden_dim\n",
    "        ),\n",
    "        optimizer=optimizer,\n",
    "        distance_metric='hyperbolic',\n",
    "        epochs=2,\n",
    "        batch_size=512,\n",
    "    )\n",
    "    return model, score, history"
   ]
  },
  {
   "cell_type": "code",
   "execution_count": 2,
   "id": "afc10a0c",
   "metadata": {},
   "outputs": [
    {
     "data": {
      "text/plain": [
       "[PhysicalDevice(name='/physical_device:GPU:0', device_type='GPU')]"
      ]
     },
     "execution_count": 2,
     "metadata": {},
     "output_type": "execute_result"
    }
   ],
   "source": [
    "tf.config.list_physical_devices('GPU')"
   ]
  },
  {
   "cell_type": "markdown",
   "id": "86198286",
   "metadata": {},
   "source": [
    "# PheS case"
   ]
  },
  {
   "cell_type": "code",
   "execution_count": 3,
   "id": "be016b44",
   "metadata": {},
   "outputs": [
    {
     "name": "stdout",
     "output_type": "stream",
     "text": [
      "mkdir: cannot create directory ‘./data/phes’: File exists\n",
      "--2021-12-20 06:48:47--  https://www.dropbox.com/s/fdto3lznea8zqyk/phes_na.fa\n",
      "Resolving www.dropbox.com (www.dropbox.com)... 162.125.3.18, 2620:100:6019:18::a27d:412\n",
      "Connecting to www.dropbox.com (www.dropbox.com)|162.125.3.18|:443... connected.\n",
      "HTTP request sent, awaiting response... 301 Moved Permanently\n",
      "Location: /s/raw/fdto3lznea8zqyk/phes_na.fa [following]\n",
      "--2021-12-20 06:48:48--  https://www.dropbox.com/s/raw/fdto3lznea8zqyk/phes_na.fa\n",
      "Reusing existing connection to www.dropbox.com:443.\n",
      "HTTP request sent, awaiting response... 302 Found\n",
      "Location: https://uc4a656025959d0216666741cf57.dl.dropboxusercontent.com/cd/0/inline/BcMdLoSqQo_I898x2oAXDi3rj-2FN10RGD4PMrq5GaEYZ2T1pCaIYAMqw4uvwu-xIXtCjGX6m6dMh8d9AolrcVlIB0yBW76eb5p91P9HjcZMcnjUn9pSizvFZp9jDYwIOuTQyfCY-SgGwVI862RWwOwb/file# [following]\n",
      "--2021-12-20 06:48:48--  https://uc4a656025959d0216666741cf57.dl.dropboxusercontent.com/cd/0/inline/BcMdLoSqQo_I898x2oAXDi3rj-2FN10RGD4PMrq5GaEYZ2T1pCaIYAMqw4uvwu-xIXtCjGX6m6dMh8d9AolrcVlIB0yBW76eb5p91P9HjcZMcnjUn9pSizvFZp9jDYwIOuTQyfCY-SgGwVI862RWwOwb/file\n",
      "Resolving uc4a656025959d0216666741cf57.dl.dropboxusercontent.com (uc4a656025959d0216666741cf57.dl.dropboxusercontent.com)... 162.125.3.15, 2620:100:601b:15::a27d:80f\n",
      "Connecting to uc4a656025959d0216666741cf57.dl.dropboxusercontent.com (uc4a656025959d0216666741cf57.dl.dropboxusercontent.com)|162.125.3.15|:443... connected.\n",
      "HTTP request sent, awaiting response... 200 OK\n",
      "Length: 7461972 (7.1M) [text/plain]\n",
      "Saving to: ‘./data/phes/phes_na.fa’\n",
      "\n",
      "./data/phes/phes_na 100%[===================>]   7.12M  34.7MB/s    in 0.2s    \n",
      "\n",
      "2021-12-20 06:48:49 (34.7 MB/s) - ‘./data/phes/phes_na.fa’ saved [7461972/7461972]\n",
      "\n",
      "--2021-12-20 06:48:49--  https://www.dropbox.com/s/8nt968mahec1urf/y.pkl?dl=0\n",
      "Resolving www.dropbox.com (www.dropbox.com)... 162.125.3.18, 2620:100:6019:18::a27d:412\n",
      "Connecting to www.dropbox.com (www.dropbox.com)|162.125.3.18|:443... connected.\n",
      "HTTP request sent, awaiting response... 301 Moved Permanently\n",
      "Location: /s/raw/8nt968mahec1urf/y.pkl [following]\n",
      "--2021-12-20 06:48:49--  https://www.dropbox.com/s/raw/8nt968mahec1urf/y.pkl\n",
      "Reusing existing connection to www.dropbox.com:443.\n",
      "HTTP request sent, awaiting response... 302 Found\n",
      "Location: https://uc8c460429fa1fa38049effb38bd.dl.dropboxusercontent.com/cd/0/inline/BcNz9aZZ7UqLX_7Ygjhhci9QpqBP2z8ZxHxOVWb9xuopzAPMYU4g31kmLInOi8RrPleTaBVNvd3bOkUuQ0vIYfLyH-nl-OAzK9KnBFZm_hDO3JHgjHqczgc5JsJsDJoLY8KahP38_bF8OICVq8tf-rw_/file# [following]\n",
      "--2021-12-20 06:48:49--  https://uc8c460429fa1fa38049effb38bd.dl.dropboxusercontent.com/cd/0/inline/BcNz9aZZ7UqLX_7Ygjhhci9QpqBP2z8ZxHxOVWb9xuopzAPMYU4g31kmLInOi8RrPleTaBVNvd3bOkUuQ0vIYfLyH-nl-OAzK9KnBFZm_hDO3JHgjHqczgc5JsJsDJoLY8KahP38_bF8OICVq8tf-rw_/file\n",
      "Resolving uc8c460429fa1fa38049effb38bd.dl.dropboxusercontent.com (uc8c460429fa1fa38049effb38bd.dl.dropboxusercontent.com)... 162.125.3.15, 2620:100:6018:15::a27d:30f\n",
      "Connecting to uc8c460429fa1fa38049effb38bd.dl.dropboxusercontent.com (uc8c460429fa1fa38049effb38bd.dl.dropboxusercontent.com)|162.125.3.15|:443... connected.\n",
      "HTTP request sent, awaiting response... 200 OK\n",
      "Length: 393120963 (375M) [text/plain]\n",
      "Saving to: ‘./data/phes/y.pkl’\n",
      "\n",
      "./data/phes/y.pkl   100%[===================>] 374.91M  96.4MB/s    in 4.2s    \n",
      "\n",
      "2021-12-20 06:48:54 (88.5 MB/s) - ‘./data/phes/y.pkl’ saved [393120963/393120963]\n",
      "\n"
     ]
    }
   ],
   "source": [
    "!mkdir ./data/phes\n",
    "!wget -O ./data/phes/phes_na.fa https://www.dropbox.com/s/fdto3lznea8zqyk/phes_na.fa\n",
    "!wget -O ./data/phes/y.pkl https://www.dropbox.com/s/8nt968mahec1urf/y.pkl?dl=0"
   ]
  },
  {
   "cell_type": "code",
   "execution_count": 4,
   "id": "09ab166f",
   "metadata": {},
   "outputs": [],
   "source": [
    "phes_fasta_path = \"./data/phes/phes_na.fa\"\n",
    "phes_y_path = \"./data/phes/y.pkl\"\n",
    "history_path=\"./results/train_test/phes\""
   ]
  },
  {
   "cell_type": "code",
   "execution_count": 5,
   "id": "d87f3b08",
   "metadata": {},
   "outputs": [
    {
     "name": "stdout",
     "output_type": "stream",
     "text": [
      "mkdir: cannot create directory ‘./results/train_test/phes’: File exists\r\n"
     ]
    }
   ],
   "source": [
    "!mkdir ./results/train_test/phes"
   ]
  },
  {
   "cell_type": "code",
   "execution_count": 8,
   "id": "b2cfb390",
   "metadata": {},
   "outputs": [
    {
     "name": "stdout",
     "output_type": "stream",
     "text": [
      "DEPTH = 1: ####################################################################################################\n",
      "Reading inputs...\n",
      "\tDone in 3.342 seconds\n",
      "\tShape of X: (7010, 1821)\n",
      "Loading distances from ./data/phes/y.pkl\n",
      "Splitting X values...\n",
      "\tDone in 0.750 seconds\n",
      "\tShapes of data: (4205, 1821), (1402, 1821), (1403, 1821)\n",
      "Epoch 1/2\n",
      "17263/17263 [==============================] - 319s 18ms/step - loss: 326065.0625 - val_loss: 320453.6562\n",
      "Epoch 2/2\n",
      "17263/17263 [==============================] - 316s 18ms/step - loss: 322911.5312 - val_loss: 318818.0625\n",
      "1918/1918 [==============================] - 22s 12ms/step - loss: 314984.3750\n",
      "\tSCORE: 314984.375\n",
      "INFO:tensorflow:Assets written to: ./results/train_test/phes/model_1.tf/assets\n",
      "DEPTH = 2: ####################################################################################################\n",
      "Reading inputs...\n",
      "\tDone in 3.257 seconds\n",
      "\tShape of X: (7010, 1821)\n",
      "Loading distances from ./data/phes/y.pkl\n",
      "Splitting X values...\n",
      "\tDone in 0.543 seconds\n",
      "\tShapes of data: (4206, 1821), (1402, 1821), (1402, 1821)\n",
      "Epoch 1/2\n",
      "17271/17271 [==============================] - 316s 18ms/step - loss: 318830.3438 - val_loss: 325313.3125\n",
      "Epoch 2/2\n",
      "17271/17271 [==============================] - 307s 18ms/step - loss: 315706.5625 - val_loss: 323671.2500\n",
      "1918/1918 [==============================] - 22s 12ms/step - loss: 331213.4062\n",
      "\tSCORE: 331213.40625\n",
      "INFO:tensorflow:Assets written to: ./results/train_test/phes/model_2.tf/assets\n",
      "DEPTH = 3: ####################################################################################################\n",
      "Reading inputs...\n",
      "\tDone in 3.271 seconds\n",
      "\tShape of X: (7010, 1821)\n",
      "Loading distances from ./data/phes/y.pkl\n",
      "Splitting X values...\n",
      "\tDone in 0.406 seconds\n",
      "\tShapes of data: (4205, 1821), (1403, 1821), (1402, 1821)\n",
      "Epoch 1/2\n",
      "17263/17263 [==============================] - 314s 18ms/step - loss: 330456.1250 - val_loss: 352003.8125\n",
      "Epoch 2/2\n",
      "17263/17263 [==============================] - 314s 18ms/step - loss: 327281.9688 - val_loss: 350302.0312\n",
      "1920/1920 [==============================] - 22s 11ms/step - loss: 266960.0312\n",
      "\tSCORE: 266960.03125\n",
      "INFO:tensorflow:Assets written to: ./results/train_test/phes/model_3.tf/assets\n",
      "DEPTH = 4: ####################################################################################################\n",
      "Reading inputs...\n",
      "\tDone in 5.941 seconds\n",
      "\tShape of X: (7010, 1821)\n",
      "Loading distances from ./data/phes/y.pkl\n",
      "Splitting X values...\n",
      "\tDone in 0.331 seconds\n",
      "\tShapes of data: (4201, 1821), (1403, 1821), (1406, 1821)\n",
      "WARNING:tensorflow:5 out of the last 5 calls to <function SiameseModel.call at 0x7f0be4a19400> triggered tf.function retracing. Tracing is expensive and the excessive number of tracings could be due to (1) creating @tf.function repeatedly in a loop, (2) passing tensors with different shapes, (3) passing Python objects instead of tensors. For (1), please define your @tf.function outside of the loop. For (2), @tf.function has experimental_relax_shapes=True option that relaxes argument shapes that can avoid unnecessary retracing. For (3), please refer to https://www.tensorflow.org/guide/function#controlling_retracing and https://www.tensorflow.org/api_docs/python/tf/function for  more details.\n",
      "Epoch 1/2\n",
      "17230/17230 [==============================] - 306s 18ms/step - loss: 333100.0312 - val_loss: 291261.7812\n",
      "Epoch 2/2\n",
      "17230/17230 [==============================] - 306s 18ms/step - loss: 329922.3750 - val_loss: 289694.2188\n",
      "1920/1920 [==============================] - 22s 11ms/step - loss: 319334.2812\n",
      "\tSCORE: 319334.28125\n",
      "INFO:tensorflow:Assets written to: ./results/train_test/phes/model_4.tf/assets\n",
      "DEPTH = 5: ####################################################################################################\n",
      "Reading inputs...\n",
      "\tDone in 3.219 seconds\n",
      "\tShape of X: (7010, 1821)\n",
      "Loading distances from ./data/phes/y.pkl\n",
      "Splitting X values...\n",
      "\tDone in 0.287 seconds\n",
      "\tShapes of data: (4169, 1821), (1428, 1821), (1413, 1821)\n",
      "WARNING:tensorflow:6 out of the last 6 calls to <function SiameseModel.call at 0x7f0bb285f8c8> triggered tf.function retracing. Tracing is expensive and the excessive number of tracings could be due to (1) creating @tf.function repeatedly in a loop, (2) passing tensors with different shapes, (3) passing Python objects instead of tensors. For (1), please define your @tf.function outside of the loop. For (2), @tf.function has experimental_relax_shapes=True option that relaxes argument shapes that can avoid unnecessary retracing. For (3), please refer to https://www.tensorflow.org/guide/function#controlling_retracing and https://www.tensorflow.org/api_docs/python/tf/function for  more details.\n",
      "Epoch 1/2\n",
      "16969/16969 [==============================] - 306s 18ms/step - loss: 323982.7812 - val_loss: 363925.2812\n",
      "Epoch 2/2\n",
      "16969/16969 [==============================] - 301s 18ms/step - loss: 320830.0000 - val_loss: 362206.5938\n",
      "1989/1989 [==============================] - 22s 11ms/step - loss: 273219.8750\n",
      "\tSCORE: 273219.875\n",
      "INFO:tensorflow:Assets written to: ./results/train_test/phes/model_5.tf/assets\n",
      "DEPTH = 6: ####################################################################################################\n",
      "Reading inputs...\n",
      "\tDone in 3.288 seconds\n",
      "\tShape of X: (7010, 1821)\n",
      "Loading distances from ./data/phes/y.pkl\n",
      "Splitting X values...\n",
      "\tDone in 0.266 seconds\n",
      "\tShapes of data: (4166, 1821), (1442, 1821), (1402, 1821)\n",
      "WARNING:tensorflow:7 out of the last 7 calls to <function SiameseModel.call at 0x7f0c31a22730> triggered tf.function retracing. Tracing is expensive and the excessive number of tracings could be due to (1) creating @tf.function repeatedly in a loop, (2) passing tensors with different shapes, (3) passing Python objects instead of tensors. For (1), please define your @tf.function outside of the loop. For (2), @tf.function has experimental_relax_shapes=True option that relaxes argument shapes that can avoid unnecessary retracing. For (3), please refer to https://www.tensorflow.org/guide/function#controlling_retracing and https://www.tensorflow.org/api_docs/python/tf/function for  more details.\n",
      "Epoch 1/2\n",
      "16944/16944 [==============================] - 301s 18ms/step - loss: 304886.7188 - val_loss: 416045.0938\n",
      "Epoch 2/2\n",
      "16944/16944 [==============================] - 299s 18ms/step - loss: 301813.8438 - val_loss: 414230.5000\n",
      "2029/2029 [==============================] - 23s 11ms/step - loss: 261226.6406\n",
      "\tSCORE: 261226.640625\n",
      "INFO:tensorflow:Assets written to: ./results/train_test/phes/model_6.tf/assets\n",
      "DEPTH = 7: ####################################################################################################\n",
      "Reading inputs...\n",
      "\tDone in 3.210 seconds\n",
      "\tShape of X: (7010, 1821)\n",
      "Loading distances from ./data/phes/y.pkl\n",
      "Splitting X values...\n",
      "\tDone in 0.253 seconds\n",
      "\tShapes of data: (4166, 1821), (1437, 1821), (1407, 1821)\n",
      "WARNING:tensorflow:8 out of the last 8 calls to <function SiameseModel.call at 0x7f0b066aa510> triggered tf.function retracing. Tracing is expensive and the excessive number of tracings could be due to (1) creating @tf.function repeatedly in a loop, (2) passing tensors with different shapes, (3) passing Python objects instead of tensors. For (1), please define your @tf.function outside of the loop. For (2), @tf.function has experimental_relax_shapes=True option that relaxes argument shapes that can avoid unnecessary retracing. For (3), please refer to https://www.tensorflow.org/guide/function#controlling_retracing and https://www.tensorflow.org/api_docs/python/tf/function for  more details.\n",
      "Epoch 1/2\n",
      "16944/16944 [==============================] - 301s 18ms/step - loss: 310435.2500 - val_loss: 222138.8906\n",
      "Epoch 2/2\n",
      "16944/16944 [==============================] - 301s 18ms/step - loss: 307345.6250 - val_loss: 220746.9062\n",
      "2015/2015 [==============================] - 23s 11ms/step - loss: 433890.4062\n",
      "\tSCORE: 433890.40625\n",
      "INFO:tensorflow:Assets written to: ./results/train_test/phes/model_7.tf/assets\n",
      "DEPTH = 8: ####################################################################################################\n",
      "Reading inputs...\n",
      "\tDone in 3.186 seconds\n",
      "\tShape of X: (7010, 1821)\n",
      "Loading distances from ./data/phes/y.pkl\n",
      "Splitting X values...\n",
      "\tDone in 0.247 seconds\n",
      "\tShapes of data: (4071, 1821), (1416, 1821), (1523, 1821)\n"
     ]
    },
    {
     "name": "stdout",
     "output_type": "stream",
     "text": [
      "WARNING:tensorflow:9 out of the last 9 calls to <function SiameseModel.call at 0x7f0ac17bef28> triggered tf.function retracing. Tracing is expensive and the excessive number of tracings could be due to (1) creating @tf.function repeatedly in a loop, (2) passing tensors with different shapes, (3) passing Python objects instead of tensors. For (1), please define your @tf.function outside of the loop. For (2), @tf.function has experimental_relax_shapes=True option that relaxes argument shapes that can avoid unnecessary retracing. For (3), please refer to https://www.tensorflow.org/guide/function#controlling_retracing and https://www.tensorflow.org/api_docs/python/tf/function for  more details.\n",
      "Epoch 1/2\n",
      "16180/16180 [==============================] - 293s 18ms/step - loss: 342008.5312 - val_loss: 172493.0781\n",
      "Epoch 2/2\n",
      "16180/16180 [==============================] - 292s 18ms/step - loss: 338811.2500 - val_loss: 171239.0156\n",
      "1956/1956 [==============================] - 22s 11ms/step - loss: 357259.4062\n",
      "\tSCORE: 357259.40625\n",
      "INFO:tensorflow:Assets written to: ./results/train_test/phes/model_8.tf/assets\n"
     ]
    }
   ],
   "source": [
    "scores = pd.DataFrame(columns=[\"depth\", \"score\"])\n",
    "for depth in range(1,9):\n",
    "    # Running function\n",
    "    print(f\"DEPTH = {depth}:\", \"#\"*100)\n",
    "    model, score, history = test_split(phes_fasta_path, phes_y_path, depth)\n",
    "    print(f\"\\tSCORE: {score}\")\n",
    "    \n",
    "    # Saving\n",
    "    model.save(f\"{history_path}/model_{depth}.tf\", save_format=\"tf\")\n",
    "    pd.DataFrame(history.history).to_pickle(f\"{history_path}/history_{depth}.pkl\")\n",
    "    scores = scores.append({\"depth\" : depth, \"score\" : score}, ignore_index=True)\n",
    "\n",
    "scores.to_pickle(f\"{history_path}/scores.pkl\")"
   ]
  },
  {
   "cell_type": "markdown",
   "id": "a9c23b89",
   "metadata": {},
   "source": [
    "# 16S rRNA case"
   ]
  },
  {
   "cell_type": "code",
   "execution_count": 9,
   "id": "f11ab4d5",
   "metadata": {},
   "outputs": [
    {
     "name": "stdout",
     "output_type": "stream",
     "text": [
      "--2021-12-20 08:17:36--  https://www.dropbox.com/s/uauwqmdjy41rf9t/16s_na.fa\n",
      "Resolving www.dropbox.com (www.dropbox.com)... 162.125.3.18, 2620:100:601b:18::a27d:812\n",
      "Connecting to www.dropbox.com (www.dropbox.com)|162.125.3.18|:443... connected.\n",
      "HTTP request sent, awaiting response... 301 Moved Permanently\n",
      "Location: /s/raw/uauwqmdjy41rf9t/16s_na.fa [following]\n",
      "--2021-12-20 08:17:36--  https://www.dropbox.com/s/raw/uauwqmdjy41rf9t/16s_na.fa\n",
      "Reusing existing connection to www.dropbox.com:443.\n",
      "HTTP request sent, awaiting response... 302 Found\n",
      "Location: https://ucfe1c41f4bef4d63e16b84f0d6c.dl.dropboxusercontent.com/cd/0/inline/BcPGWiCZ7gB6qZqo6MIrJiPmwmsbWeSVpUOOR92PoMDC-GMx6GVM8o6O44lssxNIUCUnKVf1bjdU2RuyicvJtHn-WObN0j5Ydbtu2hpE18QYwdlBlCYHTKwrq4XVeIP0oYeAJ-wmYrkQt8xGaHkC-W43/file# [following]\n",
      "--2021-12-20 08:17:36--  https://ucfe1c41f4bef4d63e16b84f0d6c.dl.dropboxusercontent.com/cd/0/inline/BcPGWiCZ7gB6qZqo6MIrJiPmwmsbWeSVpUOOR92PoMDC-GMx6GVM8o6O44lssxNIUCUnKVf1bjdU2RuyicvJtHn-WObN0j5Ydbtu2hpE18QYwdlBlCYHTKwrq4XVeIP0oYeAJ-wmYrkQt8xGaHkC-W43/file\n",
      "Resolving ucfe1c41f4bef4d63e16b84f0d6c.dl.dropboxusercontent.com (ucfe1c41f4bef4d63e16b84f0d6c.dl.dropboxusercontent.com)... 162.125.3.15, 2620:100:6018:15::a27d:30f\n",
      "Connecting to ucfe1c41f4bef4d63e16b84f0d6c.dl.dropboxusercontent.com (ucfe1c41f4bef4d63e16b84f0d6c.dl.dropboxusercontent.com)|162.125.3.15|:443... connected.\n",
      "HTTP request sent, awaiting response... 200 OK\n",
      "Length: 21008565 (20M) [text/plain]\n",
      "Saving to: ‘./data/16s/16s_na.fa’\n",
      "\n",
      "./data/16s/16s_na.f 100%[===================>]  20.04M  68.3MB/s    in 0.3s    \n",
      "\n",
      "2021-12-20 08:17:37 (68.3 MB/s) - ‘./data/16s/16s_na.fa’ saved [21008565/21008565]\n",
      "\n",
      "--2021-12-20 08:17:37--  https://www.dropbox.com/s/598zhxhlhjq5hhh/y.pkl\n",
      "Resolving www.dropbox.com (www.dropbox.com)... 162.125.3.18, 2620:100:601b:18::a27d:812\n",
      "Connecting to www.dropbox.com (www.dropbox.com)|162.125.3.18|:443... connected.\n",
      "HTTP request sent, awaiting response... 301 Moved Permanently\n",
      "Location: /s/raw/598zhxhlhjq5hhh/y.pkl [following]\n",
      "--2021-12-20 08:17:38--  https://www.dropbox.com/s/raw/598zhxhlhjq5hhh/y.pkl\n",
      "Reusing existing connection to www.dropbox.com:443.\n",
      "HTTP request sent, awaiting response... 302 Found\n",
      "Location: https://uce34ffccb186920adfa49506cc5.dl.dropboxusercontent.com/cd/0/inline/BcN6jTOTyX6Exjid9NCmQh9tHfGhIQlB2zAJVlqE5M6E-NEzCv9KpvLl7GGe5qlt4oeqk-o1MRT9zPyul9jIuHUIy7q84J8n_HMaxyCqRMeVGKllAHvHs507ay3yi2KI9UlulDGWwsHA_S67Fq4GfuZJ/file# [following]\n",
      "--2021-12-20 08:17:38--  https://uce34ffccb186920adfa49506cc5.dl.dropboxusercontent.com/cd/0/inline/BcN6jTOTyX6Exjid9NCmQh9tHfGhIQlB2zAJVlqE5M6E-NEzCv9KpvLl7GGe5qlt4oeqk-o1MRT9zPyul9jIuHUIy7q84J8n_HMaxyCqRMeVGKllAHvHs507ay3yi2KI9UlulDGWwsHA_S67Fq4GfuZJ/file\n",
      "Resolving uce34ffccb186920adfa49506cc5.dl.dropboxusercontent.com (uce34ffccb186920adfa49506cc5.dl.dropboxusercontent.com)... 162.125.3.15, 2620:100:6018:15::a27d:30f\n",
      "Connecting to uce34ffccb186920adfa49506cc5.dl.dropboxusercontent.com (uce34ffccb186920adfa49506cc5.dl.dropboxusercontent.com)|162.125.3.15|:443... connected.\n",
      "HTTP request sent, awaiting response... 200 OK\n",
      "Length: 2274346731 (2.1G) [text/plain]\n",
      "Saving to: ‘./data/16s/y.pkl’\n",
      "\n",
      "./data/16s/y.pkl    100%[===================>]   2.12G  88.7MB/s    in 22s     \n",
      "\n",
      "2021-12-20 08:18:01 (97.2 MB/s) - ‘./data/16s/y.pkl’ saved [2274346731/2274346731]\n",
      "\n"
     ]
    }
   ],
   "source": [
    "!mkdir ./data/16s\n",
    "!wget -O ./data/16s/16s_na.fa https://www.dropbox.com/s/uauwqmdjy41rf9t/16s_na.fa\n",
    "!wget -O ./data/16s/y.pkl https://www.dropbox.com/s/598zhxhlhjq5hhh/y.pkl"
   ]
  },
  {
   "cell_type": "code",
   "execution_count": 10,
   "id": "8f02278f",
   "metadata": {},
   "outputs": [],
   "source": [
    "rna_fasta_path = \"./data/16s/16s_na.fa\"\n",
    "rna_y_path = \"./data/16s/y.pkl\"\n",
    "history_path=\"./results/train_test/16s\""
   ]
  },
  {
   "cell_type": "code",
   "execution_count": 11,
   "id": "5bc58ae0",
   "metadata": {},
   "outputs": [],
   "source": [
    "!mkdir ./results/train_test/16s"
   ]
  },
  {
   "cell_type": "code",
   "execution_count": null,
   "id": "0fef2606",
   "metadata": {},
   "outputs": [
    {
     "name": "stdout",
     "output_type": "stream",
     "text": [
      "DEPTH = 1: ####################################################################################################\n",
      "Reading inputs...\n",
      "\tDone in 11.927 seconds\n",
      "\tShape of X: (16861, 3232)\n",
      "Loading distances from ./data/16s/y.pkl\n"
     ]
    }
   ],
   "source": [
    "scores = pd.DataFrame(columns=[\"depth\", \"score\"])\n",
    "for depth in range(1,9):\n",
    "    # Running function\n",
    "    print(f\"DEPTH = {depth}:\", \"#\"*100)\n",
    "    model, score, history = test_split(rna_fasta_path, rna_y_path, depth)\n",
    "    print(f\"\\tSCORE: {score}\")\n",
    "    \n",
    "    # Saving\n",
    "    model.save(f\"{history_path}/model_{depth}.tf\", save_format=\"tf\")\n",
    "    pd.DataFrame(history.history).to_pickle(f\"{history_path}/history_{depth}.pkl\")\n",
    "    scores = scores.append({\"depth\" : depth, \"score\" : score}, ignore_index=True)\n",
    "\n",
    "scores.to_pickle(f\"{history_path}/scores.pkl\")"
   ]
  },
  {
   "cell_type": "code",
   "execution_count": null,
   "id": "71f7144a",
   "metadata": {},
   "outputs": [],
   "source": []
  }
 ],
 "metadata": {
  "kernelspec": {
   "display_name": "Python 3",
   "language": "python",
   "name": "python3"
  },
  "language_info": {
   "codemirror_mode": {
    "name": "ipython",
    "version": 3
   },
   "file_extension": ".py",
   "mimetype": "text/x-python",
   "name": "python",
   "nbconvert_exporter": "python",
   "pygments_lexer": "ipython3",
   "version": "3.6.9"
  }
 },
 "nbformat": 4,
 "nbformat_minor": 5
}
