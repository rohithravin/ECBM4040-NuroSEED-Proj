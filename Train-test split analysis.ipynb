{
 "cells": [
  {
   "cell_type": "markdown",
   "id": "730f3596",
   "metadata": {},
   "source": [
    "# Imports and definitions"
   ]
  },
  {
   "cell_type": "code",
   "execution_count": 14,
   "id": "d265d733",
   "metadata": {},
   "outputs": [
    {
     "name": "stdout",
     "output_type": "stream",
     "text": [
      "The autoreload extension is already loaded. To reload it, use:\n",
      "  %reload_ext autoreload\n"
     ]
    }
   ],
   "source": [
    "%load_ext autoreload\n",
    "\n",
    "from utils.preprocessing import process_seqs\n",
    "from model.train_model import train_siamese_model\n",
    "from model.models_cstm import get_embedding_model\n",
    "import pickle\n",
    "\n",
    "def test_split(seqs_path, y_path, depth):\n",
    "    data = process_seqs(\n",
    "        seqs_path=seqs_path,\n",
    "        train_test_split='distance',\n",
    "        split_depth=depth,\n",
    "        test_size=0.2,\n",
    "        val_size=0.2,\n",
    "        load_y=y_path,\n",
    "        lim=1000,\n",
    "        verbose=True\n",
    "    )\n",
    "    in_dim = data[0][0].shape[1] # size of sequence\n",
    "    out_dim = int(in_dim / 2)\n",
    "    model, score, history = train_siamese_model(\n",
    "        data,\n",
    "        embedding_model=get_embedding_model(in_dim=in_dim, out_dim=out_dim),\n",
    "        distance_metric='euclidean',\n",
    "        epochs=1,\n",
    "        batch_size=512\n",
    "    )\n",
    "    return model, score, history"
   ]
  },
  {
   "cell_type": "markdown",
   "id": "f58b91ee",
   "metadata": {},
   "source": [
    "# PheS case"
   ]
  },
  {
   "cell_type": "code",
   "execution_count": 23,
   "id": "09ab166f",
   "metadata": {},
   "outputs": [],
   "source": [
    "phes_fasta_path = \"./data/phes/phes_na.fa\"\n",
    "phes_y_path = \"./data/phes/y.pkl\"\n",
    "history_path=\"./results/train_test/phes\""
   ]
  },
  {
   "cell_type": "code",
   "execution_count": null,
   "id": "84bb1f20",
   "metadata": {},
   "outputs": [
    {
     "name": "stdout",
     "output_type": "stream",
     "text": [
      "DEPTH = 0: ####################################################################################################\n",
      "Reading inputs...\n",
      "\tDone in 0.627 seconds\n",
      "\tShape of X: (1000, 1674)\n",
      "Loading distances from ./data/phes/y.pkl\n",
      "Splitting X values...\n",
      "\tDone in 0.418 seconds\n",
      "\tShapes of data: (600, 1674), (200, 1674), (200, 1674)\n",
      "350/350 [==============================] - 74s 212ms/step - loss: 5759.5356 - val_loss: 10705.8252\n",
      "38/38 [==============================] - 4s 95ms/step - loss: 6795.1309\n",
      "\tSCORE: 6795.130859375\n",
      "INFO:tensorflow:Assets written to: ./results/train_test/phes/model_0/assets\n",
      "DEPTH = 1: ####################################################################################################\n",
      "Reading inputs...\n",
      "\tDone in 0.489 seconds\n",
      "\tShape of X: (1000, 1674)\n",
      "Loading distances from ./data/phes/y.pkl\n",
      "Splitting X values...\n",
      "\tDone in 0.277 seconds\n",
      "\tShapes of data: (600, 1674), (200, 1674), (200, 1674)\n",
      "350/350 [==============================] - 88s 251ms/step - loss: 5448.9551 - val_loss: 8051.5518\n",
      "38/38 [==============================] - 4s 111ms/step - loss: 9112.9375\n",
      "\tSCORE: 9112.9375\n",
      "INFO:tensorflow:Assets written to: ./results/train_test/phes/model_1/assets\n",
      "DEPTH = 2: ####################################################################################################\n",
      "Reading inputs...\n",
      "\tDone in 0.548 seconds\n",
      "\tShape of X: (1000, 1674)\n",
      "Loading distances from ./data/phes/y.pkl\n",
      "Splitting X values...\n",
      "\tDone in 0.583 seconds\n",
      "\tShapes of data: (600, 1674), (200, 1674), (200, 1674)\n",
      "350/350 [==============================] - 98s 280ms/step - loss: 5639.7827 - val_loss: 7673.1636\n",
      "38/38 [==============================] - 5s 120ms/step - loss: 7604.0718\n",
      "\tSCORE: 7604.07177734375\n",
      "INFO:tensorflow:Assets written to: ./results/train_test/phes/model_2/assets\n",
      "DEPTH = 3: ####################################################################################################\n",
      "Reading inputs...\n",
      "\tDone in 0.653 seconds\n",
      "\tShape of X: (1000, 1674)\n",
      "Loading distances from ./data/phes/y.pkl\n",
      "Splitting X values...\n",
      "\tDone in 0.207 seconds\n",
      "\tShapes of data: (600, 1674), (200, 1674), (200, 1674)\n",
      "350/350 [==============================] - 91s 261ms/step - loss: 5441.2612 - val_loss: 10230.2363\n",
      "38/38 [==============================] - 5s 126ms/step - loss: 8671.4658\n",
      "\tSCORE: 8671.4658203125\n",
      "INFO:tensorflow:Assets written to: ./results/train_test/phes/model_3/assets\n",
      "DEPTH = 4: ####################################################################################################\n",
      "Reading inputs...\n",
      "\tDone in 0.716 seconds\n",
      "\tShape of X: (1000, 1674)\n",
      "Loading distances from ./data/phes/y.pkl\n",
      "Splitting X values...\n",
      "\tDone in 0.431 seconds\n",
      "\tShapes of data: (600, 1674), (200, 1674), (200, 1674)\n",
      "350/350 [==============================] - 96s 273ms/step - loss: 5485.1611 - val_loss: 8344.6592\n",
      "38/38 [==============================] - 5s 141ms/step - loss: 8423.4609\n",
      "\tSCORE: 8423.4609375\n",
      "INFO:tensorflow:Assets written to: ./results/train_test/phes/model_4/assets\n",
      "DEPTH = 5: ####################################################################################################\n",
      "Reading inputs...\n",
      "\tDone in 0.866 seconds\n",
      "\tShape of X: (1000, 1674)\n",
      "Loading distances from ./data/phes/y.pkl\n",
      "Splitting X values...\n",
      "\tDone in 0.326 seconds\n",
      "\tShapes of data: (600, 1674), (200, 1674), (200, 1674)\n",
      "346/350 [============================>.] - ETA: 1s - loss: 5567.6421"
     ]
    }
   ],
   "source": [
    "# max_depth = np.ceil(np.log2(0.2 * n_seqs))\n",
    "scores = pd.DataFrame(columns=[\"depth\", \"score\"])\n",
    "for depth in range(12):\n",
    "    # Running function\n",
    "    print(f\"DEPTH = {depth}:\", \"#\"*100)\n",
    "    model, score, history = test_split(phes_fasta_path, phes_y_path, 0)\n",
    "    print(f\"\\tSCORE: {score}\")\n",
    "    \n",
    "    # Saving\n",
    "    model.save(f\"{history_path}/model_{depth}\")\n",
    "    pd.DataFrame(history.history).to_pickle(f\"{history_path}/history_{depth}.pkl\")\n",
    "    scores = scores.append({\"depth\" : depth, \"score\" : score}, ignore_index=True)\n",
    "\n",
    "scores.to_pickle(f\"{history_path}/scores.pkl\")"
   ]
  },
  {
   "cell_type": "code",
   "execution_count": null,
   "id": "1ffcabdf",
   "metadata": {},
   "outputs": [],
   "source": [
    "rna_fasta_path = \"./data/16s/16s_na.fa\"\n",
    "rna_y_path = \"./data/16s/y.pkl\"\n",
    "history_path=\"./results/train_test/16s\""
   ]
  },
  {
   "cell_type": "code",
   "execution_count": null,
   "id": "156f299c",
   "metadata": {},
   "outputs": [],
   "source": [
    "# max_depth = np.ceil(np.log2(0.2 * n_seqs))\n",
    "scores = pd.DataFrame(columns=[\"depth\", \"score\"])\n",
    "for depth in range(12):\n",
    "    # Running function\n",
    "    print(f\"DEPTH = {depth}:\", \"#\"*100)\n",
    "    model, score, history = test_split(rna_fasta_path, rna_y_path, 0)\n",
    "    print(f\"\\tSCORE: {score}\")\n",
    "    \n",
    "    # Saving\n",
    "    model.save(f\"{history_path}/model_{depth}\")\n",
    "    pd.DataFrame(history.history).to_pickle(f\"{history_path}/history_{depth}.pkl\")\n",
    "    scores = scores.append({\"depth\" : depth, \"score\" : score}, ignore_index=True)\n",
    "\n",
    "scores.to_pickle(f\"{history_path}/scores.pkl\")"
   ]
  },
  {
   "cell_type": "code",
   "execution_count": null,
   "id": "ff4bda7e",
   "metadata": {},
   "outputs": [],
   "source": []
  }
 ],
 "metadata": {
  "kernelspec": {
   "display_name": "Python 3 (ipykernel)",
   "language": "python",
   "name": "python3"
  },
  "language_info": {
   "codemirror_mode": {
    "name": "ipython",
    "version": 3
   },
   "file_extension": ".py",
   "mimetype": "text/x-python",
   "name": "python",
   "nbconvert_exporter": "python",
   "pygments_lexer": "ipython3",
   "version": "3.9.7"
  }
 },
 "nbformat": 4,
 "nbformat_minor": 5
}
