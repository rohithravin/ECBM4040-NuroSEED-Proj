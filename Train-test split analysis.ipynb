{
 "cells": [
  {
   "cell_type": "markdown",
   "id": "5c24a513",
   "metadata": {},
   "source": [
    "The purpose of this notebook is to investigate the effects of different clustering levels in the train-test split on results. The main idea is that higher degrees of clustering mean more of the evolutionary history is not shared between training and test sets, making it harder for the embedding model to simply memorize distances between pairs of sequences."
   ]
  },
  {
   "cell_type": "markdown",
   "id": "0b1844b0",
   "metadata": {},
   "source": [
    "# Imports and definitions"
   ]
  },
  {
   "cell_type": "code",
   "execution_count": 7,
   "id": "d265d733",
   "metadata": {},
   "outputs": [
    {
     "name": "stdout",
     "output_type": "stream",
     "text": [
      "The autoreload extension is already loaded. To reload it, use:\n",
      "  %reload_ext autoreload\n"
     ]
    }
   ],
   "source": [
    "%load_ext autoreload\n",
    "\n",
    "import pickle\n",
    "import pandas as pd\n",
    "import tensorflow as tf\n",
    "\n",
    "from utils.preprocessing import process_seqs\n",
    "from model.train_model import train_siamese_model\n",
    "from model.models_cstm import get_embedding_model\n",
    "\n",
    "\n",
    "def test_split(seqs_path, y_path, depth):\n",
    "    \"\"\"\n",
    "    Helper function for generating cladistic train-test split analysis. The idea is to vary the depth,\n",
    "    keeping other variables consistent. \n",
    "    \"\"\"\n",
    "    # Load data from known y matrix\n",
    "    data = process_seqs(\n",
    "        seqs_path=seqs_path,\n",
    "        train_test_split='distance',\n",
    "        split_depth=depth,\n",
    "        test_size=0.2,\n",
    "        val_size=0.2,\n",
    "        load_y=y_path,\n",
    "        verbose=True\n",
    "    )\n",
    "    \n",
    "    # Get input/output sizes\n",
    "    in_dim = data[0][0].shape[1]\n",
    "    hidden_dim = int(in_dim * 0.75)\n",
    "    out_dim = int(in_dim * 0.5)\n",
    "    \n",
    "    # Specifying model this way keeps hyperparameters consistent\n",
    "#     optimizer = tf.keras.optimizers.Adam(\n",
    "#         learning_rate=1e-2, \n",
    "#     )\n",
    "    optimizer = tf.keras.optimizers.Adam( # hyperbolic hyperparams\n",
    "        learning_rate=1,\n",
    "        clipnorm=1\n",
    "    )\n",
    "    model, score, history = train_siamese_model(\n",
    "        data,\n",
    "        embedding_model=get_embedding_model(\n",
    "            in_dim=in_dim, \n",
    "            out_dim=out_dim,\n",
    "            model_choice='LINEAR',\n",
    "#             mlp_num_units_hidden=hidden_dim\n",
    "        ),\n",
    "        optimizer=optimizer,\n",
    "        distance_metric='hyperbolic',\n",
    "        epochs=2,\n",
    "        batch_size=512,\n",
    "    )\n",
    "    return model, score, history"
   ]
  },
  {
   "cell_type": "code",
   "execution_count": 2,
   "id": "afc10a0c",
   "metadata": {},
   "outputs": [
    {
     "data": {
      "text/plain": [
       "[PhysicalDevice(name='/physical_device:GPU:0', device_type='GPU')]"
      ]
     },
     "execution_count": 2,
     "metadata": {},
     "output_type": "execute_result"
    }
   ],
   "source": [
    "tf.config.list_physical_devices('GPU')"
   ]
  },
  {
   "cell_type": "markdown",
   "id": "86198286",
   "metadata": {},
   "source": [
    "# PheS case"
   ]
  },
  {
   "cell_type": "code",
   "execution_count": 3,
   "id": "be016b44",
   "metadata": {},
   "outputs": [
    {
     "name": "stdout",
     "output_type": "stream",
     "text": [
      "mkdir: cannot create directory ‘./data/phes’: File exists\n",
      "--2021-12-20 06:48:47--  https://www.dropbox.com/s/fdto3lznea8zqyk/phes_na.fa\n",
      "Resolving www.dropbox.com (www.dropbox.com)... 162.125.3.18, 2620:100:6019:18::a27d:412\n",
      "Connecting to www.dropbox.com (www.dropbox.com)|162.125.3.18|:443... connected.\n",
      "HTTP request sent, awaiting response... 301 Moved Permanently\n",
      "Location: /s/raw/fdto3lznea8zqyk/phes_na.fa [following]\n",
      "--2021-12-20 06:48:48--  https://www.dropbox.com/s/raw/fdto3lznea8zqyk/phes_na.fa\n",
      "Reusing existing connection to www.dropbox.com:443.\n",
      "HTTP request sent, awaiting response... 302 Found\n",
      "Location: https://uc4a656025959d0216666741cf57.dl.dropboxusercontent.com/cd/0/inline/BcMdLoSqQo_I898x2oAXDi3rj-2FN10RGD4PMrq5GaEYZ2T1pCaIYAMqw4uvwu-xIXtCjGX6m6dMh8d9AolrcVlIB0yBW76eb5p91P9HjcZMcnjUn9pSizvFZp9jDYwIOuTQyfCY-SgGwVI862RWwOwb/file# [following]\n",
      "--2021-12-20 06:48:48--  https://uc4a656025959d0216666741cf57.dl.dropboxusercontent.com/cd/0/inline/BcMdLoSqQo_I898x2oAXDi3rj-2FN10RGD4PMrq5GaEYZ2T1pCaIYAMqw4uvwu-xIXtCjGX6m6dMh8d9AolrcVlIB0yBW76eb5p91P9HjcZMcnjUn9pSizvFZp9jDYwIOuTQyfCY-SgGwVI862RWwOwb/file\n",
      "Resolving uc4a656025959d0216666741cf57.dl.dropboxusercontent.com (uc4a656025959d0216666741cf57.dl.dropboxusercontent.com)... 162.125.3.15, 2620:100:601b:15::a27d:80f\n",
      "Connecting to uc4a656025959d0216666741cf57.dl.dropboxusercontent.com (uc4a656025959d0216666741cf57.dl.dropboxusercontent.com)|162.125.3.15|:443... connected.\n",
      "HTTP request sent, awaiting response... 200 OK\n",
      "Length: 7461972 (7.1M) [text/plain]\n",
      "Saving to: ‘./data/phes/phes_na.fa’\n",
      "\n",
      "./data/phes/phes_na 100%[===================>]   7.12M  34.7MB/s    in 0.2s    \n",
      "\n",
      "2021-12-20 06:48:49 (34.7 MB/s) - ‘./data/phes/phes_na.fa’ saved [7461972/7461972]\n",
      "\n",
      "--2021-12-20 06:48:49--  https://www.dropbox.com/s/8nt968mahec1urf/y.pkl?dl=0\n",
      "Resolving www.dropbox.com (www.dropbox.com)... 162.125.3.18, 2620:100:6019:18::a27d:412\n",
      "Connecting to www.dropbox.com (www.dropbox.com)|162.125.3.18|:443... connected.\n",
      "HTTP request sent, awaiting response... 301 Moved Permanently\n",
      "Location: /s/raw/8nt968mahec1urf/y.pkl [following]\n",
      "--2021-12-20 06:48:49--  https://www.dropbox.com/s/raw/8nt968mahec1urf/y.pkl\n",
      "Reusing existing connection to www.dropbox.com:443.\n",
      "HTTP request sent, awaiting response... 302 Found\n",
      "Location: https://uc8c460429fa1fa38049effb38bd.dl.dropboxusercontent.com/cd/0/inline/BcNz9aZZ7UqLX_7Ygjhhci9QpqBP2z8ZxHxOVWb9xuopzAPMYU4g31kmLInOi8RrPleTaBVNvd3bOkUuQ0vIYfLyH-nl-OAzK9KnBFZm_hDO3JHgjHqczgc5JsJsDJoLY8KahP38_bF8OICVq8tf-rw_/file# [following]\n",
      "--2021-12-20 06:48:49--  https://uc8c460429fa1fa38049effb38bd.dl.dropboxusercontent.com/cd/0/inline/BcNz9aZZ7UqLX_7Ygjhhci9QpqBP2z8ZxHxOVWb9xuopzAPMYU4g31kmLInOi8RrPleTaBVNvd3bOkUuQ0vIYfLyH-nl-OAzK9KnBFZm_hDO3JHgjHqczgc5JsJsDJoLY8KahP38_bF8OICVq8tf-rw_/file\n",
      "Resolving uc8c460429fa1fa38049effb38bd.dl.dropboxusercontent.com (uc8c460429fa1fa38049effb38bd.dl.dropboxusercontent.com)... 162.125.3.15, 2620:100:6018:15::a27d:30f\n",
      "Connecting to uc8c460429fa1fa38049effb38bd.dl.dropboxusercontent.com (uc8c460429fa1fa38049effb38bd.dl.dropboxusercontent.com)|162.125.3.15|:443... connected.\n",
      "HTTP request sent, awaiting response... 200 OK\n",
      "Length: 393120963 (375M) [text/plain]\n",
      "Saving to: ‘./data/phes/y.pkl’\n",
      "\n",
      "./data/phes/y.pkl   100%[===================>] 374.91M  96.4MB/s    in 4.2s    \n",
      "\n",
      "2021-12-20 06:48:54 (88.5 MB/s) - ‘./data/phes/y.pkl’ saved [393120963/393120963]\n",
      "\n"
     ]
    }
   ],
   "source": [
    "!mkdir ./data/phes\n",
    "!wget -O ./data/phes/phes_na.fa https://www.dropbox.com/s/fdto3lznea8zqyk/phes_na.fa\n",
    "!wget -O ./data/phes/y.pkl https://www.dropbox.com/s/8nt968mahec1urf/y.pkl?dl=0"
   ]
  },
  {
   "cell_type": "code",
   "execution_count": 4,
   "id": "09ab166f",
   "metadata": {},
   "outputs": [],
   "source": [
    "phes_fasta_path = \"./data/phes/phes_na.fa\"\n",
    "phes_y_path = \"./data/phes/y.pkl\"\n",
    "history_path=\"./results/train_test/phes\""
   ]
  },
  {
   "cell_type": "code",
   "execution_count": 5,
   "id": "d87f3b08",
   "metadata": {},
   "outputs": [
    {
     "name": "stdout",
     "output_type": "stream",
     "text": [
      "mkdir: cannot create directory ‘./results/train_test/phes’: File exists\r\n"
     ]
    }
   ],
   "source": [
    "!mkdir ./results/train_test/phes"
   ]
  },
  {
   "cell_type": "code",
   "execution_count": 8,
   "id": "b2cfb390",
   "metadata": {},
   "outputs": [
    {
     "name": "stdout",
     "output_type": "stream",
     "text": [
      "DEPTH = 1: ####################################################################################################\n",
      "Reading inputs...\n",
      "\tDone in 3.342 seconds\n",
      "\tShape of X: (7010, 1821)\n",
      "Loading distances from ./data/phes/y.pkl\n",
      "Splitting X values...\n",
      "\tDone in 0.750 seconds\n",
      "\tShapes of data: (4205, 1821), (1402, 1821), (1403, 1821)\n",
      "Epoch 1/2\n",
      "17263/17263 [==============================] - 319s 18ms/step - loss: 326065.0625 - val_loss: 320453.6562\n",
      "Epoch 2/2\n",
      "17263/17263 [==============================] - 316s 18ms/step - loss: 322911.5312 - val_loss: 318818.0625\n",
      "1918/1918 [==============================] - 22s 12ms/step - loss: 314984.3750\n",
      "\tSCORE: 314984.375\n",
      "INFO:tensorflow:Assets written to: ./results/train_test/phes/model_1.tf/assets\n",
      "DEPTH = 2: ####################################################################################################\n",
      "Reading inputs...\n",
      "\tDone in 3.257 seconds\n",
      "\tShape of X: (7010, 1821)\n",
      "Loading distances from ./data/phes/y.pkl\n",
      "Splitting X values...\n",
      "\tDone in 0.543 seconds\n",
      "\tShapes of data: (4206, 1821), (1402, 1821), (1402, 1821)\n",
      "Epoch 1/2\n",
      "17271/17271 [==============================] - 316s 18ms/step - loss: 318830.3438 - val_loss: 325313.3125\n",
      "Epoch 2/2\n",
      "17271/17271 [==============================] - 307s 18ms/step - loss: 315706.5625 - val_loss: 323671.2500\n",
      "1918/1918 [==============================] - 22s 12ms/step - loss: 331213.4062\n",
      "\tSCORE: 331213.40625\n",
      "INFO:tensorflow:Assets written to: ./results/train_test/phes/model_2.tf/assets\n",
      "DEPTH = 3: ####################################################################################################\n",
      "Reading inputs...\n",
      "\tDone in 3.271 seconds\n",
      "\tShape of X: (7010, 1821)\n",
      "Loading distances from ./data/phes/y.pkl\n",
      "Splitting X values...\n",
      "\tDone in 0.406 seconds\n",
      "\tShapes of data: (4205, 1821), (1403, 1821), (1402, 1821)\n",
      "Epoch 1/2\n",
      "17263/17263 [==============================] - 314s 18ms/step - loss: 330456.1250 - val_loss: 352003.8125\n",
      "Epoch 2/2\n",
      "17263/17263 [==============================] - 314s 18ms/step - loss: 327281.9688 - val_loss: 350302.0312\n",
      "1920/1920 [==============================] - 22s 11ms/step - loss: 266960.0312\n",
      "\tSCORE: 266960.03125\n",
      "INFO:tensorflow:Assets written to: ./results/train_test/phes/model_3.tf/assets\n",
      "DEPTH = 4: ####################################################################################################\n",
      "Reading inputs...\n",
      "\tDone in 5.941 seconds\n",
      "\tShape of X: (7010, 1821)\n",
      "Loading distances from ./data/phes/y.pkl\n",
      "Splitting X values...\n",
      "\tDone in 0.331 seconds\n",
      "\tShapes of data: (4201, 1821), (1403, 1821), (1406, 1821)\n",
      "WARNING:tensorflow:5 out of the last 5 calls to <function SiameseModel.call at 0x7f0be4a19400> triggered tf.function retracing. Tracing is expensive and the excessive number of tracings could be due to (1) creating @tf.function repeatedly in a loop, (2) passing tensors with different shapes, (3) passing Python objects instead of tensors. For (1), please define your @tf.function outside of the loop. For (2), @tf.function has experimental_relax_shapes=True option that relaxes argument shapes that can avoid unnecessary retracing. For (3), please refer to https://www.tensorflow.org/guide/function#controlling_retracing and https://www.tensorflow.org/api_docs/python/tf/function for  more details.\n",
      "Epoch 1/2\n",
      "17230/17230 [==============================] - 306s 18ms/step - loss: 333100.0312 - val_loss: 291261.7812\n",
      "Epoch 2/2\n",
      "17230/17230 [==============================] - 306s 18ms/step - loss: 329922.3750 - val_loss: 289694.2188\n",
      "1920/1920 [==============================] - 22s 11ms/step - loss: 319334.2812\n",
      "\tSCORE: 319334.28125\n",
      "INFO:tensorflow:Assets written to: ./results/train_test/phes/model_4.tf/assets\n",
      "DEPTH = 5: ####################################################################################################\n",
      "Reading inputs...\n",
      "\tDone in 3.219 seconds\n",
      "\tShape of X: (7010, 1821)\n",
      "Loading distances from ./data/phes/y.pkl\n",
      "Splitting X values...\n",
      "\tDone in 0.287 seconds\n",
      "\tShapes of data: (4169, 1821), (1428, 1821), (1413, 1821)\n",
      "WARNING:tensorflow:6 out of the last 6 calls to <function SiameseModel.call at 0x7f0bb285f8c8> triggered tf.function retracing. Tracing is expensive and the excessive number of tracings could be due to (1) creating @tf.function repeatedly in a loop, (2) passing tensors with different shapes, (3) passing Python objects instead of tensors. For (1), please define your @tf.function outside of the loop. For (2), @tf.function has experimental_relax_shapes=True option that relaxes argument shapes that can avoid unnecessary retracing. For (3), please refer to https://www.tensorflow.org/guide/function#controlling_retracing and https://www.tensorflow.org/api_docs/python/tf/function for  more details.\n",
      "Epoch 1/2\n",
      "16969/16969 [==============================] - 306s 18ms/step - loss: 323982.7812 - val_loss: 363925.2812\n",
      "Epoch 2/2\n",
      "16969/16969 [==============================] - 301s 18ms/step - loss: 320830.0000 - val_loss: 362206.5938\n",
      "1989/1989 [==============================] - 22s 11ms/step - loss: 273219.8750\n",
      "\tSCORE: 273219.875\n",
      "INFO:tensorflow:Assets written to: ./results/train_test/phes/model_5.tf/assets\n",
      "DEPTH = 6: ####################################################################################################\n",
      "Reading inputs...\n",
      "\tDone in 3.288 seconds\n",
      "\tShape of X: (7010, 1821)\n",
      "Loading distances from ./data/phes/y.pkl\n",
      "Splitting X values...\n",
      "\tDone in 0.266 seconds\n",
      "\tShapes of data: (4166, 1821), (1442, 1821), (1402, 1821)\n",
      "WARNING:tensorflow:7 out of the last 7 calls to <function SiameseModel.call at 0x7f0c31a22730> triggered tf.function retracing. Tracing is expensive and the excessive number of tracings could be due to (1) creating @tf.function repeatedly in a loop, (2) passing tensors with different shapes, (3) passing Python objects instead of tensors. For (1), please define your @tf.function outside of the loop. For (2), @tf.function has experimental_relax_shapes=True option that relaxes argument shapes that can avoid unnecessary retracing. For (3), please refer to https://www.tensorflow.org/guide/function#controlling_retracing and https://www.tensorflow.org/api_docs/python/tf/function for  more details.\n",
      "Epoch 1/2\n",
      "16944/16944 [==============================] - 301s 18ms/step - loss: 304886.7188 - val_loss: 416045.0938\n",
      "Epoch 2/2\n",
      "16944/16944 [==============================] - 299s 18ms/step - loss: 301813.8438 - val_loss: 414230.5000\n",
      "2029/2029 [==============================] - 23s 11ms/step - loss: 261226.6406\n",
      "\tSCORE: 261226.640625\n",
      "INFO:tensorflow:Assets written to: ./results/train_test/phes/model_6.tf/assets\n",
      "DEPTH = 7: ####################################################################################################\n",
      "Reading inputs...\n",
      "\tDone in 3.210 seconds\n",
      "\tShape of X: (7010, 1821)\n",
      "Loading distances from ./data/phes/y.pkl\n",
      "Splitting X values...\n",
      "\tDone in 0.253 seconds\n",
      "\tShapes of data: (4166, 1821), (1437, 1821), (1407, 1821)\n",
      "WARNING:tensorflow:8 out of the last 8 calls to <function SiameseModel.call at 0x7f0b066aa510> triggered tf.function retracing. Tracing is expensive and the excessive number of tracings could be due to (1) creating @tf.function repeatedly in a loop, (2) passing tensors with different shapes, (3) passing Python objects instead of tensors. For (1), please define your @tf.function outside of the loop. For (2), @tf.function has experimental_relax_shapes=True option that relaxes argument shapes that can avoid unnecessary retracing. For (3), please refer to https://www.tensorflow.org/guide/function#controlling_retracing and https://www.tensorflow.org/api_docs/python/tf/function for  more details.\n",
      "Epoch 1/2\n",
      "16944/16944 [==============================] - 301s 18ms/step - loss: 310435.2500 - val_loss: 222138.8906\n",
      "Epoch 2/2\n",
      "16944/16944 [==============================] - 301s 18ms/step - loss: 307345.6250 - val_loss: 220746.9062\n",
      "2015/2015 [==============================] - 23s 11ms/step - loss: 433890.4062\n",
      "\tSCORE: 433890.40625\n",
      "INFO:tensorflow:Assets written to: ./results/train_test/phes/model_7.tf/assets\n",
      "DEPTH = 8: ####################################################################################################\n",
      "Reading inputs...\n",
      "\tDone in 3.186 seconds\n",
      "\tShape of X: (7010, 1821)\n",
      "Loading distances from ./data/phes/y.pkl\n",
      "Splitting X values...\n",
      "\tDone in 0.247 seconds\n",
      "\tShapes of data: (4071, 1821), (1416, 1821), (1523, 1821)\n"
     ]
    },
    {
     "name": "stdout",
     "output_type": "stream",
     "text": [
      "WARNING:tensorflow:9 out of the last 9 calls to <function SiameseModel.call at 0x7f0ac17bef28> triggered tf.function retracing. Tracing is expensive and the excessive number of tracings could be due to (1) creating @tf.function repeatedly in a loop, (2) passing tensors with different shapes, (3) passing Python objects instead of tensors. For (1), please define your @tf.function outside of the loop. For (2), @tf.function has experimental_relax_shapes=True option that relaxes argument shapes that can avoid unnecessary retracing. For (3), please refer to https://www.tensorflow.org/guide/function#controlling_retracing and https://www.tensorflow.org/api_docs/python/tf/function for  more details.\n",
      "Epoch 1/2\n",
      "16180/16180 [==============================] - 293s 18ms/step - loss: 342008.5312 - val_loss: 172493.0781\n",
      "Epoch 2/2\n",
      "16180/16180 [==============================] - 292s 18ms/step - loss: 338811.2500 - val_loss: 171239.0156\n",
      "1956/1956 [==============================] - 22s 11ms/step - loss: 357259.4062\n",
      "\tSCORE: 357259.40625\n",
      "INFO:tensorflow:Assets written to: ./results/train_test/phes/model_8.tf/assets\n"
     ]
    }
   ],
   "source": [
    "scores = pd.DataFrame(columns=[\"depth\", \"score\"])\n",
    "for depth in range(1,9):\n",
    "    # Running function\n",
    "    print(f\"DEPTH = {depth}:\", \"#\"*100)\n",
    "    model, score, history = test_split(phes_fasta_path, phes_y_path, depth)\n",
    "    print(f\"\\tSCORE: {score}\")\n",
    "    \n",
    "    # Saving\n",
    "    model.save(f\"{history_path}/model_{depth}.tf\", save_format=\"tf\")\n",
    "    pd.DataFrame(history.history).to_pickle(f\"{history_path}/history_{depth}.pkl\")\n",
    "    scores = scores.append({\"depth\" : depth, \"score\" : score}, ignore_index=True)\n",
    "\n",
    "scores.to_pickle(f\"{history_path}/scores.pkl\")"
   ]
  },
  {
   "cell_type": "markdown",
   "id": "a9c23b89",
   "metadata": {},
   "source": [
    "# 16S rRNA case"
   ]
  },
  {
   "cell_type": "code",
   "execution_count": 9,
   "id": "f11ab4d5",
   "metadata": {},
   "outputs": [
    {
     "name": "stdout",
     "output_type": "stream",
     "text": [
      "--2021-12-20 08:17:36--  https://www.dropbox.com/s/uauwqmdjy41rf9t/16s_na.fa\n",
      "Resolving www.dropbox.com (www.dropbox.com)... 162.125.3.18, 2620:100:601b:18::a27d:812\n",
      "Connecting to www.dropbox.com (www.dropbox.com)|162.125.3.18|:443... connected.\n",
      "HTTP request sent, awaiting response... 301 Moved Permanently\n",
      "Location: /s/raw/uauwqmdjy41rf9t/16s_na.fa [following]\n",
      "--2021-12-20 08:17:36--  https://www.dropbox.com/s/raw/uauwqmdjy41rf9t/16s_na.fa\n",
      "Reusing existing connection to www.dropbox.com:443.\n",
      "HTTP request sent, awaiting response... 302 Found\n",
      "Location: https://ucfe1c41f4bef4d63e16b84f0d6c.dl.dropboxusercontent.com/cd/0/inline/BcPGWiCZ7gB6qZqo6MIrJiPmwmsbWeSVpUOOR92PoMDC-GMx6GVM8o6O44lssxNIUCUnKVf1bjdU2RuyicvJtHn-WObN0j5Ydbtu2hpE18QYwdlBlCYHTKwrq4XVeIP0oYeAJ-wmYrkQt8xGaHkC-W43/file# [following]\n",
      "--2021-12-20 08:17:36--  https://ucfe1c41f4bef4d63e16b84f0d6c.dl.dropboxusercontent.com/cd/0/inline/BcPGWiCZ7gB6qZqo6MIrJiPmwmsbWeSVpUOOR92PoMDC-GMx6GVM8o6O44lssxNIUCUnKVf1bjdU2RuyicvJtHn-WObN0j5Ydbtu2hpE18QYwdlBlCYHTKwrq4XVeIP0oYeAJ-wmYrkQt8xGaHkC-W43/file\n",
      "Resolving ucfe1c41f4bef4d63e16b84f0d6c.dl.dropboxusercontent.com (ucfe1c41f4bef4d63e16b84f0d6c.dl.dropboxusercontent.com)... 162.125.3.15, 2620:100:6018:15::a27d:30f\n",
      "Connecting to ucfe1c41f4bef4d63e16b84f0d6c.dl.dropboxusercontent.com (ucfe1c41f4bef4d63e16b84f0d6c.dl.dropboxusercontent.com)|162.125.3.15|:443... connected.\n",
      "HTTP request sent, awaiting response... 200 OK\n",
      "Length: 21008565 (20M) [text/plain]\n",
      "Saving to: ‘./data/16s/16s_na.fa’\n",
      "\n",
      "./data/16s/16s_na.f 100%[===================>]  20.04M  68.3MB/s    in 0.3s    \n",
      "\n",
      "2021-12-20 08:17:37 (68.3 MB/s) - ‘./data/16s/16s_na.fa’ saved [21008565/21008565]\n",
      "\n",
      "--2021-12-20 08:17:37--  https://www.dropbox.com/s/598zhxhlhjq5hhh/y.pkl\n",
      "Resolving www.dropbox.com (www.dropbox.com)... 162.125.3.18, 2620:100:601b:18::a27d:812\n",
      "Connecting to www.dropbox.com (www.dropbox.com)|162.125.3.18|:443... connected.\n",
      "HTTP request sent, awaiting response... 301 Moved Permanently\n",
      "Location: /s/raw/598zhxhlhjq5hhh/y.pkl [following]\n",
      "--2021-12-20 08:17:38--  https://www.dropbox.com/s/raw/598zhxhlhjq5hhh/y.pkl\n",
      "Reusing existing connection to www.dropbox.com:443.\n",
      "HTTP request sent, awaiting response... 302 Found\n",
      "Location: https://uce34ffccb186920adfa49506cc5.dl.dropboxusercontent.com/cd/0/inline/BcN6jTOTyX6Exjid9NCmQh9tHfGhIQlB2zAJVlqE5M6E-NEzCv9KpvLl7GGe5qlt4oeqk-o1MRT9zPyul9jIuHUIy7q84J8n_HMaxyCqRMeVGKllAHvHs507ay3yi2KI9UlulDGWwsHA_S67Fq4GfuZJ/file# [following]\n",
      "--2021-12-20 08:17:38--  https://uce34ffccb186920adfa49506cc5.dl.dropboxusercontent.com/cd/0/inline/BcN6jTOTyX6Exjid9NCmQh9tHfGhIQlB2zAJVlqE5M6E-NEzCv9KpvLl7GGe5qlt4oeqk-o1MRT9zPyul9jIuHUIy7q84J8n_HMaxyCqRMeVGKllAHvHs507ay3yi2KI9UlulDGWwsHA_S67Fq4GfuZJ/file\n",
      "Resolving uce34ffccb186920adfa49506cc5.dl.dropboxusercontent.com (uce34ffccb186920adfa49506cc5.dl.dropboxusercontent.com)... 162.125.3.15, 2620:100:6018:15::a27d:30f\n",
      "Connecting to uce34ffccb186920adfa49506cc5.dl.dropboxusercontent.com (uce34ffccb186920adfa49506cc5.dl.dropboxusercontent.com)|162.125.3.15|:443... connected.\n",
      "HTTP request sent, awaiting response... 200 OK\n",
      "Length: 2274346731 (2.1G) [text/plain]\n",
      "Saving to: ‘./data/16s/y.pkl’\n",
      "\n",
      "./data/16s/y.pkl    100%[===================>]   2.12G  88.7MB/s    in 22s     \n",
      "\n",
      "2021-12-20 08:18:01 (97.2 MB/s) - ‘./data/16s/y.pkl’ saved [2274346731/2274346731]\n",
      "\n"
     ]
    }
   ],
   "source": [
    "!mkdir ./data/16s\n",
    "!wget -O ./data/16s/16s_na.fa https://www.dropbox.com/s/uauwqmdjy41rf9t/16s_na.fa\n",
    "!wget -O ./data/16s/y.pkl https://www.dropbox.com/s/598zhxhlhjq5hhh/y.pkl"
   ]
  },
  {
   "cell_type": "code",
   "execution_count": 10,
   "id": "8f02278f",
   "metadata": {},
   "outputs": [],
   "source": [
    "rna_fasta_path = \"./data/16s/16s_na.fa\"\n",
    "rna_y_path = \"./data/16s/y.pkl\"\n",
    "history_path=\"./results/train_test/16s\""
   ]
  },
  {
   "cell_type": "code",
   "execution_count": 11,
   "id": "5bc58ae0",
   "metadata": {},
   "outputs": [],
   "source": [
    "!mkdir ./results/train_test/16s"
   ]
  },
  {
   "cell_type": "code",
   "execution_count": null,
   "id": "0fef2606",
   "metadata": {},
   "outputs": [
    {
     "name": "stdout",
     "output_type": "stream",
     "text": [
      "DEPTH = 1: ####################################################################################################\n",
      "Reading inputs...\n",
      "\tDone in 11.927 seconds\n",
      "\tShape of X: (16861, 3232)\n",
      "Loading distances from ./data/16s/y.pkl\n"
     ]
    }
   ],
   "source": [
    "scores = pd.DataFrame(columns=[\"depth\", \"score\"])\n",
    "for depth in range(1,9):\n",
    "    # Running function\n",
    "    print(f\"DEPTH = {depth}:\", \"#\"*100)\n",
    "    model, score, history = test_split(rna_fasta_path, rna_y_path, depth)\n",
    "    print(f\"\\tSCORE: {score}\")\n",
    "    \n",
    "    # Saving\n",
    "    model.save(f\"{history_path}/model_{depth}.tf\", save_format=\"tf\")\n",
    "    pd.DataFrame(history.history).to_pickle(f\"{history_path}/history_{depth}.pkl\")\n",
    "    scores = scores.append({\"depth\" : depth, \"score\" : score}, ignore_index=True)\n",
    "\n",
    "scores.to_pickle(f\"{history_path}/scores.pkl\")"
   ]
  },
  {
   "cell_type": "markdown",
   "id": "981b7cd5",
   "metadata": {},
   "source": [
    "This analysis ended up crashing every machine I tried doing it with, so I skipped it. Instead, I will simply comment on the results for PheS."
   ]
  },
  {
   "cell_type": "markdown",
   "id": "4d43237b",
   "metadata": {},
   "source": [
    "# Plotting"
   ]
  },
  {
   "cell_type": "code",
   "execution_count": 4,
   "id": "4c0e3757",
   "metadata": {},
   "outputs": [
    {
     "name": "stdout",
     "output_type": "stream",
     "text": [
      "Collecting matplotlib\n",
      "  Downloading matplotlib-3.5.1-cp39-cp39-macosx_10_9_x86_64.whl (7.3 MB)\n",
      "     |████████████████████████████████| 7.3 MB 3.2 MB/s            \n",
      "\u001b[?25hRequirement already satisfied: packaging>=20.0 in /Users/phil/opt/anaconda3/envs/4040final/lib/python3.9/site-packages (from matplotlib) (21.3)\n",
      "Collecting kiwisolver>=1.0.1\n",
      "  Downloading kiwisolver-1.3.2-cp39-cp39-macosx_10_9_x86_64.whl (61 kB)\n",
      "     |████████████████████████████████| 61 kB 567 kB/s             \n",
      "\u001b[?25hCollecting pillow>=6.2.0\n",
      "  Downloading Pillow-8.4.0-cp39-cp39-macosx_10_10_x86_64.whl (3.0 MB)\n",
      "     |████████████████████████████████| 3.0 MB 8.4 MB/s            \n",
      "\u001b[?25hRequirement already satisfied: python-dateutil>=2.7 in /Users/phil/opt/anaconda3/envs/4040final/lib/python3.9/site-packages (from matplotlib) (2.8.2)\n",
      "Requirement already satisfied: numpy>=1.17 in /Users/phil/opt/anaconda3/envs/4040final/lib/python3.9/site-packages (from matplotlib) (1.19.5)\n",
      "Requirement already satisfied: pyparsing>=2.2.1 in /Users/phil/opt/anaconda3/envs/4040final/lib/python3.9/site-packages (from matplotlib) (3.0.6)\n",
      "Collecting cycler>=0.10\n",
      "  Using cached cycler-0.11.0-py3-none-any.whl (6.4 kB)\n",
      "Collecting fonttools>=4.22.0\n",
      "  Downloading fonttools-4.28.5-py3-none-any.whl (890 kB)\n",
      "     |████████████████████████████████| 890 kB 12.5 MB/s            \n",
      "\u001b[?25hRequirement already satisfied: six>=1.5 in /Users/phil/opt/anaconda3/envs/4040final/lib/python3.9/site-packages (from python-dateutil>=2.7->matplotlib) (1.15.0)\n",
      "Installing collected packages: pillow, kiwisolver, fonttools, cycler, matplotlib\n",
      "Successfully installed cycler-0.11.0 fonttools-4.28.5 kiwisolver-1.3.2 matplotlib-3.5.1 pillow-8.4.0\n"
     ]
    }
   ],
   "source": [
    "!pip install matplotlib"
   ]
  },
  {
   "cell_type": "code",
   "execution_count": 6,
   "id": "44e89658",
   "metadata": {},
   "outputs": [],
   "source": [
    "import matplotlib.pyplot as plt\n",
    "import pandas as pd\n",
    "\n",
    "history_path=\"./results/train_test/phes\"\n",
    "scores = pd.read_pickle(f\"{history_path}/scores.pkl\")"
   ]
  },
  {
   "cell_type": "code",
   "execution_count": 17,
   "id": "876b2c3e",
   "metadata": {},
   "outputs": [
    {
     "data": {
      "text/plain": [
       "Text(0.5, 0, 'Split depth')"
      ]
     },
     "execution_count": 17,
     "metadata": {},
     "output_type": "execute_result"
    },
    {
     "data": {
      "image/png": "[encoded data removed]",
      "text/plain": [
       "<Figure size 576x432 with 1 Axes>"
      ]
     },
     "metadata": {
      "needs_background": "light"
     },
     "output_type": "display_data"
    }
   ],
   "source": [
    "score_0 = scores.iloc[0][\"score\"]\n",
    "\n",
    "fig = plt.figure(figsize=(8,6))\n",
    "plt.plot(scores[\"depth\"], scores[\"score\"] / score_0 * 100)\n",
    "plt.title(\"Split depth vs. error\")\n",
    "plt.ylabel(\"Percent error relative to random split\")\n",
    "plt.xlabel(\"Split depth\")"
   ]
  },
  {
   "cell_type": "code",
   "execution_count": 34,
   "id": "04999c07",
   "metadata": {},
   "outputs": [
    {
     "data": {
      "text/html": [
       "<div>\n",
       "<style scoped>\n",
       "    .dataframe tbody tr th:only-of-type {\n",
       "        vertical-align: middle;\n",
       "    }\n",
       "\n",
       "    .dataframe tbody tr th {\n",
       "        vertical-align: top;\n",
       "    }\n",
       "\n",
       "    .dataframe thead th {\n",
       "        text-align: right;\n",
       "    }\n",
       "</style>\n",
       "<table border=\"1\" class=\"dataframe\">\n",
       "  <thead>\n",
       "    <tr style=\"text-align: right;\">\n",
       "      <th></th>\n",
       "      <th>depth</th>\n",
       "      <th>score</th>\n",
       "      <th>val_loss</th>\n",
       "      <th>train_loss</th>\n",
       "    </tr>\n",
       "  </thead>\n",
       "  <tbody>\n",
       "    <tr>\n",
       "      <th>0</th>\n",
       "      <td>1.0</td>\n",
       "      <td>314984.375000</td>\n",
       "      <td>318818.062500</td>\n",
       "      <td>322911.53125</td>\n",
       "    </tr>\n",
       "    <tr>\n",
       "      <th>1</th>\n",
       "      <td>2.0</td>\n",
       "      <td>331213.406250</td>\n",
       "      <td>323671.250000</td>\n",
       "      <td>315706.56250</td>\n",
       "    </tr>\n",
       "    <tr>\n",
       "      <th>2</th>\n",
       "      <td>3.0</td>\n",
       "      <td>266960.031250</td>\n",
       "      <td>350302.031250</td>\n",
       "      <td>327281.96875</td>\n",
       "    </tr>\n",
       "    <tr>\n",
       "      <th>3</th>\n",
       "      <td>4.0</td>\n",
       "      <td>319334.281250</td>\n",
       "      <td>289694.218750</td>\n",
       "      <td>329922.37500</td>\n",
       "    </tr>\n",
       "    <tr>\n",
       "      <th>4</th>\n",
       "      <td>5.0</td>\n",
       "      <td>273219.875000</td>\n",
       "      <td>362206.593750</td>\n",
       "      <td>320830.00000</td>\n",
       "    </tr>\n",
       "    <tr>\n",
       "      <th>5</th>\n",
       "      <td>6.0</td>\n",
       "      <td>261226.640625</td>\n",
       "      <td>414230.500000</td>\n",
       "      <td>301813.84375</td>\n",
       "    </tr>\n",
       "    <tr>\n",
       "      <th>6</th>\n",
       "      <td>7.0</td>\n",
       "      <td>433890.406250</td>\n",
       "      <td>220746.906250</td>\n",
       "      <td>307345.62500</td>\n",
       "    </tr>\n",
       "    <tr>\n",
       "      <th>7</th>\n",
       "      <td>8.0</td>\n",
       "      <td>357259.406250</td>\n",
       "      <td>171239.015625</td>\n",
       "      <td>338811.25000</td>\n",
       "    </tr>\n",
       "  </tbody>\n",
       "</table>\n",
       "</div>"
      ],
      "text/plain": [
       "   depth          score       val_loss    train_loss\n",
       "0    1.0  314984.375000  318818.062500  322911.53125\n",
       "1    2.0  331213.406250  323671.250000  315706.56250\n",
       "2    3.0  266960.031250  350302.031250  327281.96875\n",
       "3    4.0  319334.281250  289694.218750  329922.37500\n",
       "4    5.0  273219.875000  362206.593750  320830.00000\n",
       "5    6.0  261226.640625  414230.500000  301813.84375\n",
       "6    7.0  433890.406250  220746.906250  307345.62500\n",
       "7    8.0  357259.406250  171239.015625  338811.25000"
      ]
     },
     "execution_count": 34,
     "metadata": {},
     "output_type": "execute_result"
    }
   ],
   "source": [
    "# Also include training and validation loss, read from previous data:\n",
    "\n",
    "scores_detailed = scores.copy()\n",
    "scores_detailed[\"val_loss\"] = 0\n",
    "scores_detailed[\"train_loss\"] = 0\n",
    "\n",
    "for n in range(1,9):\n",
    "    history = pd.read_pickle(f\"{history_path}/history_{n}.pkl\")\n",
    "    train_loss = history.iloc[1][\"loss\"]\n",
    "    val_loss = history.iloc[1][\"val_loss\"]\n",
    "    scores_detailed.loc[n-1, \"train_loss\"] = train_loss\n",
    "    scores_detailed.loc[n-1, \"val_loss\"] = val_loss\n",
    "\n",
    "scores_detailed"
   ]
  },
  {
   "cell_type": "code",
   "execution_count": 44,
   "id": "434f327a",
   "metadata": {},
   "outputs": [
    {
     "data": {
      "text/html": [
       "<div>\n",
       "<style scoped>\n",
       "    .dataframe tbody tr th:only-of-type {\n",
       "        vertical-align: middle;\n",
       "    }\n",
       "\n",
       "    .dataframe tbody tr th {\n",
       "        vertical-align: top;\n",
       "    }\n",
       "\n",
       "    .dataframe thead th {\n",
       "        text-align: right;\n",
       "    }\n",
       "</style>\n",
       "<table border=\"1\" class=\"dataframe\">\n",
       "  <thead>\n",
       "    <tr style=\"text-align: right;\">\n",
       "      <th></th>\n",
       "      <th>Depth</th>\n",
       "      <th>Test</th>\n",
       "      <th>Validation</th>\n",
       "      <th>Training</th>\n",
       "    </tr>\n",
       "  </thead>\n",
       "  <tbody>\n",
       "    <tr>\n",
       "      <th>0</th>\n",
       "      <td>1.0</td>\n",
       "      <td>100.000000</td>\n",
       "      <td>100.000000</td>\n",
       "      <td>100.000000</td>\n",
       "    </tr>\n",
       "    <tr>\n",
       "      <th>1</th>\n",
       "      <td>2.0</td>\n",
       "      <td>105.152329</td>\n",
       "      <td>101.522244</td>\n",
       "      <td>97.768748</td>\n",
       "    </tr>\n",
       "    <tr>\n",
       "      <th>2</th>\n",
       "      <td>3.0</td>\n",
       "      <td>84.753420</td>\n",
       "      <td>109.875215</td>\n",
       "      <td>101.353447</td>\n",
       "    </tr>\n",
       "    <tr>\n",
       "      <th>3</th>\n",
       "      <td>4.0</td>\n",
       "      <td>101.380991</td>\n",
       "      <td>90.865058</td>\n",
       "      <td>102.171135</td>\n",
       "    </tr>\n",
       "    <tr>\n",
       "      <th>4</th>\n",
       "      <td>5.0</td>\n",
       "      <td>86.740771</td>\n",
       "      <td>113.609182</td>\n",
       "      <td>99.355387</td>\n",
       "    </tr>\n",
       "    <tr>\n",
       "      <th>5</th>\n",
       "      <td>6.0</td>\n",
       "      <td>82.933206</td>\n",
       "      <td>129.926923</td>\n",
       "      <td>93.466419</td>\n",
       "    </tr>\n",
       "    <tr>\n",
       "      <th>6</th>\n",
       "      <td>7.0</td>\n",
       "      <td>137.749819</td>\n",
       "      <td>69.239147</td>\n",
       "      <td>95.179514</td>\n",
       "    </tr>\n",
       "    <tr>\n",
       "      <th>7</th>\n",
       "      <td>8.0</td>\n",
       "      <td>113.421311</td>\n",
       "      <td>53.710575</td>\n",
       "      <td>104.923862</td>\n",
       "    </tr>\n",
       "  </tbody>\n",
       "</table>\n",
       "</div>"
      ],
      "text/plain": [
       "   Depth        Test  Validation    Training\n",
       "0    1.0  100.000000  100.000000  100.000000\n",
       "1    2.0  105.152329  101.522244   97.768748\n",
       "2    3.0   84.753420  109.875215  101.353447\n",
       "3    4.0  101.380991   90.865058  102.171135\n",
       "4    5.0   86.740771  113.609182   99.355387\n",
       "5    6.0   82.933206  129.926923   93.466419\n",
       "6    7.0  137.749819   69.239147   95.179514\n",
       "7    8.0  113.421311   53.710575  104.923862"
      ]
     },
     "execution_count": 44,
     "metadata": {},
     "output_type": "execute_result"
    }
   ],
   "source": [
    "scores_detailed.columns = [\"Depth\", \"Test\", \"Validation\", \"Training\"]\n",
    "scores_detailed /= scores_detailed.iloc[0]\n",
    "scores_detailed[[\"Test\", \"Validation\", \"Training\"]] *= 100\n",
    "scores_detailed"
   ]
  },
  {
   "cell_type": "code",
   "execution_count": 49,
   "id": "31f657fb",
   "metadata": {},
   "outputs": [
    {
     "data": {
      "text/plain": [
       "Text(0.5, 0, 'Split depth')"
      ]
     },
     "execution_count": 49,
     "metadata": {},
     "output_type": "execute_result"
    },
    {
     "data": {
      "image/png": "[encoded data removed]",
      "text/plain": [
       "<Figure size 576x432 with 1 Axes>"
      ]
     },
     "metadata": {
      "needs_background": "light"
     },
     "output_type": "display_data"
    }
   ],
   "source": [
    "scores_detailed.plot(kind=\"bar\", x=\"Depth\", figsize=(8,6))\n",
    "plt.title(\"Split depth vs. error, all losses\")\n",
    "plt.ylabel(\"Percent error relative to random split\")\n",
    "plt.xlabel(\"Split depth\")"
   ]
  },
  {
   "cell_type": "code",
   "execution_count": null,
   "id": "e995ae09",
   "metadata": {},
   "outputs": [],
   "source": []
  }
 ],
 "metadata": {
  "kernelspec": {
   "display_name": "Python 3 (ipykernel)",
   "language": "python",
   "name": "python3"
  },
  "language_info": {
   "codemirror_mode": {
    "name": "ipython",
    "version": 3
   },
   "file_extension": ".py",
   "mimetype": "text/x-python",
   "name": "python",
   "nbconvert_exporter": "python",
   "pygments_lexer": "ipython3",
   "version": "3.9.7"
  }
 },
 "nbformat": 4,
 "nbformat_minor": 5
}
