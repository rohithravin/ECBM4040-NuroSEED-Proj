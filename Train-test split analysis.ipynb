{
 "cells": [
  {
   "cell_type": "code",
   "execution_count": 8,
   "id": "d265d733",
   "metadata": {},
   "outputs": [
    {
     "name": "stdout",
     "output_type": "stream",
     "text": [
      "The autoreload extension is already loaded. To reload it, use:\n",
      "  %reload_ext autoreload\n"
     ]
    }
   ],
   "source": [
    "%load_ext autoreload\n",
    "\n",
    "from utils.preprocessing import process_seqs\n",
    "from model.train_model import train_siamese_model\n",
    "from model.models_cstm import get_embedding_model\n",
    "import pickle\n",
    "\n",
    "def test_split(seqs_path, y_path, depth):\n",
    "    # ((X_train, X_test, X_val), (y_train, y_test, y_val)) = process_seqs(\n",
    "    data = process_seqs(\n",
    "        seqs_path=seqs_path,\n",
    "        train_test_split='distance',\n",
    "        split_depth=depth,\n",
    "        test_size=0.2,\n",
    "        val_size=0.2,\n",
    "        load_y=y_path,\n",
    "        lim=1000,\n",
    "        verbose=True\n",
    "    )\n",
    "    in_dim = data[0][0].shape[1] # size of sequence\n",
    "    out_dim = int(in_dim / 2)\n",
    "    history = train_siamese_model(\n",
    "        data,\n",
    "        embedding_model=get_embedding_model(in_dim=in_dim, out_dim=out_dim),\n",
    "        distance_metric='euclidean',\n",
    "        epochs=1,\n",
    "        batch_size=512\n",
    "    )\n",
    "    return history"
   ]
  },
  {
   "cell_type": "code",
   "execution_count": 9,
   "id": "09ab166f",
   "metadata": {},
   "outputs": [],
   "source": [
    "phes_fasta_path = \"./data/phes/phes_na.fa\"\n",
    "phes_y_path = \"./data/phes/y.pkl\"\n",
    "history_path=\"./results/train_test\""
   ]
  },
  {
   "cell_type": "code",
   "execution_count": null,
   "id": "616ff952",
   "metadata": {},
   "outputs": [
    {
     "name": "stdout",
     "output_type": "stream",
     "text": [
      "DEPTH = 0: ########################\n",
      "Reading inputs...\n",
      "\tDone in 0.560 seconds\n",
      "\tShape of X: (1000, 1674)\n",
      "Loading distances from ./data/phes/y.pkl\n",
      "Splitting X values...\n",
      "\tDone in 0.177 seconds\n",
      "\tShapes of data: (600, 1674), (200, 1674), (200, 1674)\n",
      " 28/350 [=>............................] - ETA: 1:20 - loss: 44308.7695"
     ]
    }
   ],
   "source": [
    "for depth in range(12):\n",
    "    print(f\"DEPTH = {depth}: ########################\")\n",
    "    history = test_split(phes_fasta_path, phes_y_path, 0)\n",
    "    with open(f\"{history_path}/history_{depth}.pkl\", \"wb\") as f:\n",
    "        pickle.dump(history, f)"
   ]
  },
  {
   "cell_type": "code",
   "execution_count": null,
   "id": "0ced8880",
   "metadata": {},
   "outputs": [],
   "source": []
  }
 ],
 "metadata": {
  "kernelspec": {
   "display_name": "Python 3 (ipykernel)",
   "language": "python",
   "name": "python3"
  },
  "language_info": {
   "codemirror_mode": {
    "name": "ipython",
    "version": 3
   },
   "file_extension": ".py",
   "mimetype": "text/x-python",
   "name": "python",
   "nbconvert_exporter": "python",
   "pygments_lexer": "ipython3",
   "version": "3.9.7"
  }
 },
 "nbformat": 4,
 "nbformat_minor": 5
}
