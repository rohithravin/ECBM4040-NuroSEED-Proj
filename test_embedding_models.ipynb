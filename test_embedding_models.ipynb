{
 "cells": [
  {
   "cell_type": "markdown",
   "id": "c016345f",
   "metadata": {},
   "source": [
    "# ECBM 4040 Fall '21 Project  - BIOM Group"
   ]
  },
  {
   "cell_type": "markdown",
   "id": "638cf1a6",
   "metadata": {},
   "source": [
    "## Initialization"
   ]
  },
  {
   "cell_type": "code",
   "execution_count": 1,
   "id": "a09d5361",
   "metadata": {},
   "outputs": [],
   "source": [
    "import numpy as np\n",
    "import tensorflow as tf\n",
    "import pickle\n",
    "from matplotlib import pyplot as plt\n",
    "\n",
    "import shutil\n",
    "import os\n",
    "\n",
    "from model.models_cstm import get_embedding_model\n",
    "from model.train_model import train_siamese_model\n",
    "\n",
    "# Notebook auto reloads code. (Ref: http://stackoverflow.com/questions/1907993/autoreload-of-modules-in-ipython)\n",
    "%load_ext autoreload\n",
    "%autoreload 2"
   ]
  },
  {
   "cell_type": "code",
   "execution_count": 2,
   "id": "eec42589",
   "metadata": {},
   "outputs": [],
   "source": [
    "DISTANCE_METRICS = {\n",
    "    'EUCLIDEAN': 'euclidean',\n",
    "    'HYPERBOLIC': 'hyperbolic',\n",
    "    'MANHATTAN': 'manhattan',\n",
    "    'SQUARE': 'square',\n",
    "    'COSINE': 'cosine'\n",
    "}"
   ]
  },
  {
   "cell_type": "code",
   "execution_count": 3,
   "id": "667d55bd",
   "metadata": {},
   "outputs": [],
   "source": [
    "# set random number seeds for reproducible results\n",
    "np.random.seed(1)\n",
    "tf.random.set_seed(1)"
   ]
  },
  {
   "cell_type": "markdown",
   "id": "f4ad4aae",
   "metadata": {},
   "source": [
    "## Get Qiita Data"
   ]
  },
  {
   "cell_type": "code",
   "execution_count": 4,
   "id": "99f6cee0",
   "metadata": {},
   "outputs": [
    {
     "name": "stdout",
     "output_type": "stream",
     "text": [
      "--2021-12-18 06:43:28--  https://www.dropbox.com/s/mv546rx259tgwaz/qiita_numpy.pkl\n",
      "Resolving www.dropbox.com (www.dropbox.com)... 162.125.5.18, 2620:100:601d:18::a27d:512\n",
      "Connecting to www.dropbox.com (www.dropbox.com)|162.125.5.18|:443... connected.\n",
      "HTTP request sent, awaiting response... 301 Moved Permanently\n",
      "Location: /s/raw/mv546rx259tgwaz/qiita_numpy.pkl [following]\n",
      "--2021-12-18 06:43:28--  https://www.dropbox.com/s/raw/mv546rx259tgwaz/qiita_numpy.pkl\n",
      "Reusing existing connection to www.dropbox.com:443.\n",
      "HTTP request sent, awaiting response... 302 Found\n",
      "Location: https://uc910f28be6644dae4e55817f570.dl.dropboxusercontent.com/cd/0/inline/BcFClDEdSBQStFuiFjkTlCpf7qgEAOj7u5O--fDPf_IiVWNaoX5c-wBt5EcNtxWGpCs3sTm57ADsb9uc9b590dr3anyi7dj-UIa3epOPEbemU93SMMgwy6MyzbVeiaNmUp3VSbqGCJZ75WgEu1WJwc_f/file# [following]\n",
      "--2021-12-18 06:43:28--  https://uc910f28be6644dae4e55817f570.dl.dropboxusercontent.com/cd/0/inline/BcFClDEdSBQStFuiFjkTlCpf7qgEAOj7u5O--fDPf_IiVWNaoX5c-wBt5EcNtxWGpCs3sTm57ADsb9uc9b590dr3anyi7dj-UIa3epOPEbemU93SMMgwy6MyzbVeiaNmUp3VSbqGCJZ75WgEu1WJwc_f/file\n",
      "Resolving uc910f28be6644dae4e55817f570.dl.dropboxusercontent.com (uc910f28be6644dae4e55817f570.dl.dropboxusercontent.com)... 162.125.5.15, 2620:100:601d:15::a27d:50f\n",
      "Connecting to uc910f28be6644dae4e55817f570.dl.dropboxusercontent.com (uc910f28be6644dae4e55817f570.dl.dropboxusercontent.com)|162.125.5.15|:443... connected.\n",
      "HTTP request sent, awaiting response... 200 OK\n",
      "Length: 218147622 (208M) [text/plain]\n",
      "Saving to: ‘qiita_numpy.pkl’\n",
      "\n",
      "qiita_numpy.pkl     100%[===================>] 208.04M  65.6MB/s    in 3.2s    \n",
      "\n",
      "2021-12-18 06:43:32 (65.6 MB/s) - ‘qiita_numpy.pkl’ saved [218147622/218147622]\n",
      "\n"
     ]
    }
   ],
   "source": [
    "!wget https://www.dropbox.com/s/mv546rx259tgwaz/qiita_numpy.pkl"
   ]
  },
  {
   "cell_type": "code",
   "execution_count": 5,
   "id": "7413c8f1",
   "metadata": {},
   "outputs": [
    {
     "data": {
      "text/plain": [
       "'/home/ecbm4040/ECBM4040-NuroSEED-Proj/data/qiita/qiita_numpy.pkl'"
      ]
     },
     "execution_count": 5,
     "metadata": {},
     "output_type": "execute_result"
    }
   ],
   "source": [
    "cwd = os.getcwd()\n",
    "shutil.move(f\"{cwd}/qiita_numpy.pkl\", f\"{cwd}/data/qiita/qiita_numpy.pkl\")"
   ]
  },
  {
   "cell_type": "markdown",
   "id": "2f24c59e",
   "metadata": {},
   "source": [
    "## Load Qiita Dataset"
   ]
  },
  {
   "cell_type": "code",
   "execution_count": 6,
   "id": "cfbb0de6",
   "metadata": {},
   "outputs": [],
   "source": [
    "# Load QIITA dataset.\n",
    "((X_train, X_test, X_val), (y_train, y_test, y_val)) = pickle.load(open(f\"{cwd}/data/qiita/qiita_numpy.pkl\", \"rb\"))"
   ]
  },
  {
   "cell_type": "markdown",
   "id": "cc92e9df",
   "metadata": {},
   "source": [
    "## Train Siamese Model using Different Embedding models"
   ]
  },
  {
   "cell_type": "code",
   "execution_count": 7,
   "id": "efc5c110",
   "metadata": {},
   "outputs": [
    {
     "name": "stdout",
     "output_type": "stream",
     "text": [
      "\n",
      "Beginning to test CNN model.\n",
      "Model: \"sequential\"\n",
      "_________________________________________________________________\n",
      "Layer (type)                 Output Shape              Param #   \n",
      "=================================================================\n",
      "one_hot_encoding_layer (OneH (None, 152, 4)            0         \n",
      "_________________________________________________________________\n",
      "flatten (Flatten)            (None, 608)               0         \n",
      "_________________________________________________________________\n",
      "reshape (Reshape)            (None, 608, 1)            0         \n",
      "_________________________________________________________________\n",
      "conv1d (Conv1D)              (None, 608, 4)            16        \n",
      "_________________________________________________________________\n",
      "batch_normalization (BatchNo (None, 608, 4)            16        \n",
      "_________________________________________________________________\n",
      "average_pooling1d (AveragePo (None, 304, 4)            0         \n",
      "_________________________________________________________________\n",
      "conv1d_1 (Conv1D)            (None, 304, 4)            52        \n",
      "_________________________________________________________________\n",
      "batch_normalization_1 (Batch (None, 304, 4)            16        \n",
      "_________________________________________________________________\n",
      "average_pooling1d_1 (Average (None, 152, 4)            0         \n",
      "_________________________________________________________________\n",
      "flatten_1 (Flatten)          (None, 608)               0         \n",
      "_________________________________________________________________\n",
      "dense (Dense)                (None, 128)               77952     \n",
      "=================================================================\n",
      "Total params: 78,052\n",
      "Trainable params: 78,036\n",
      "Non-trainable params: 16\n",
      "_________________________________________________________________\n",
      "Epoch 1/5\n",
      "95689/95689 [==============================] - 2251s 24ms/step - loss: 2079.4590 - val_loss: 1540.4144\n",
      "Epoch 2/5\n",
      "95689/95689 [==============================] - 2251s 24ms/step - loss: 1391.3901 - val_loss: 1182.9744\n",
      "Epoch 3/5\n",
      "95689/95689 [==============================] - 2250s 24ms/step - loss: 1124.0695 - val_loss: 989.7283\n",
      "Epoch 4/5\n",
      "95689/95689 [==============================] - 2251s 24ms/step - loss: nan - val_loss: nan\n",
      "Epoch 5/5\n",
      "95689/95689 [==============================] - 2262s 24ms/step - loss: nan - val_loss: nan\n",
      "4391/4391 [==============================] - 53s 12ms/step - loss: nan\n"
     ]
    },
    {
     "ename": "AttributeError",
     "evalue": "'float' object has no attribute 'append'",
     "output_type": "error",
     "traceback": [
      "\u001b[0;31m---------------------------------------------------------------------------\u001b[0m",
      "\u001b[0;31mAttributeError\u001b[0m                            Traceback (most recent call last)",
      "\u001b[0;32m<ipython-input-7-62251b1c32f8>\u001b[0m in \u001b[0;36m<module>\u001b[0;34m\u001b[0m\n\u001b[1;32m     13\u001b[0m     \u001b[0mmodel\u001b[0m\u001b[0;34m,\u001b[0m \u001b[0mscore\u001b[0m\u001b[0;34m,\u001b[0m \u001b[0mhistory\u001b[0m \u001b[0;34m=\u001b[0m \u001b[0mtrain_siamese_model\u001b[0m\u001b[0;34m(\u001b[0m\u001b[0mdata\u001b[0m\u001b[0;34m,\u001b[0m \u001b[0membedding\u001b[0m\u001b[0;34m,\u001b[0m \u001b[0mdist\u001b[0m \u001b[0;34m,\u001b[0m \u001b[0mbatch_size\u001b[0m\u001b[0;34m=\u001b[0m\u001b[0;36m256\u001b[0m\u001b[0;34m,\u001b[0m \u001b[0mepochs\u001b[0m\u001b[0;34m=\u001b[0m\u001b[0;36m5\u001b[0m\u001b[0;34m)\u001b[0m\u001b[0;34m\u001b[0m\u001b[0;34m\u001b[0m\u001b[0m\n\u001b[1;32m     14\u001b[0m     \u001b[0mmodels\u001b[0m\u001b[0;34m.\u001b[0m\u001b[0mappend\u001b[0m\u001b[0;34m(\u001b[0m\u001b[0mmodel\u001b[0m\u001b[0;34m)\u001b[0m\u001b[0;34m\u001b[0m\u001b[0;34m\u001b[0m\u001b[0m\n\u001b[0;32m---> 15\u001b[0;31m     \u001b[0mscore\u001b[0m\u001b[0;34m.\u001b[0m\u001b[0mappend\u001b[0m\u001b[0;34m(\u001b[0m\u001b[0mscore\u001b[0m\u001b[0;34m)\u001b[0m\u001b[0;34m\u001b[0m\u001b[0;34m\u001b[0m\u001b[0m\n\u001b[0m\u001b[1;32m     16\u001b[0m     \u001b[0mhistory\u001b[0m\u001b[0;34m.\u001b[0m\u001b[0mappend\u001b[0m\u001b[0;34m(\u001b[0m\u001b[0mhistory\u001b[0m\u001b[0;34m)\u001b[0m\u001b[0;34m\u001b[0m\u001b[0;34m\u001b[0m\u001b[0m\n\u001b[1;32m     17\u001b[0m     \u001b[0mprint\u001b[0m\u001b[0;34m(\u001b[0m\u001b[0;34mf'Score for Siamese Model using {dist} distance: {score}'\u001b[0m\u001b[0;34m)\u001b[0m\u001b[0;34m\u001b[0m\u001b[0;34m\u001b[0m\u001b[0m\n",
      "\u001b[0;31mAttributeError\u001b[0m: 'float' object has no attribute 'append'"
     ]
    }
   ],
   "source": [
    "data = ((X_train, X_test, X_val), (y_train, y_test, y_val))\n",
    "dist = DISTANCE_METRICS['HYPERBOLIC']\n",
    "\n",
    "models = []\n",
    "scores = []\n",
    "histories = []\n",
    "\n",
    "model_choices = ['LINEAR', 'MLP', 'CNN']\n",
    "for model_choice in model_choices:\n",
    "    print('\\nBeginning to test {0} model.'.format(model_choice))\n",
    "    embedding = get_embedding_model(model_choice=model_choice)\n",
    "    embedding.summary()\n",
    "    model, score, history = train_siamese_model(data, embedding, dist , batch_size=256, epochs=5)\n",
    "    models.append(model)\n",
    "    scores.append(score)\n",
    "    histories.append(history)\n",
    "    print(f'Score for Siamese Model using {dist} distance: {score}')"
   ]
  },
  {
   "cell_type": "markdown",
   "id": "4aafa6c4",
   "metadata": {},
   "source": [
    "## Visualize Loss "
   ]
  },
  {
   "cell_type": "code",
   "execution_count": 9,
   "id": "be46f942",
   "metadata": {},
   "outputs": [
    {
     "name": "stdout",
     "output_type": "stream",
     "text": [
      "Score for Siamese Model using hyperbolic distance: nan\n"
     ]
    },
    {
     "data": {
      "image/png": "[encoded data removed]",
      "text/plain": [
       "<Figure size 432x288 with 1 Axes>"
      ]
     },
     "metadata": {
      "needs_background": "light"
     },
     "output_type": "display_data"
    },
    {
     "data": {
      "image/png": "[encoded data removed]",
      "text/plain": [
       "<Figure size 432x288 with 1 Axes>"
      ]
     },
     "metadata": {
      "needs_background": "light"
     },
     "output_type": "display_data"
    }
   ],
   "source": [
    " \n",
    "for i in range(len(model_choices)):\n",
    "    history = histories[i]\n",
    "    plt.plot(history.history['loss'],label=model_choices[i])\n",
    "    #plt.plot(history.history['val_loss'])\n",
    "    plt.title('Training loss')\n",
    "    plt.ylabel('loss')\n",
    "    plt.xlabel('epoch')\n",
    "    plt.legend()\n",
    "plt.show()\n",
    "\n",
    "for i in range(len(model_choices)):\n",
    "    history = histories[i]\n",
    "    plt.plot(history.history['val_loss'],label=model_choices[i])\n",
    "    #plt.plot(history.history['val_loss'])\n",
    "    plt.title('Validation loss')\n",
    "    plt.ylabel('loss')\n",
    "    plt.xlabel('epoch')\n",
    "    plt.legend()\n",
    "plt.show()"
   ]
  },
  {
   "cell_type": "code",
   "execution_count": null,
   "id": "829987f3",
   "metadata": {},
   "outputs": [],
   "source": []
  },
  {
   "cell_type": "code",
   "execution_count": null,
   "id": "86775cd0",
   "metadata": {},
   "outputs": [],
   "source": []
  }
 ],
 "metadata": {
  "kernelspec": {
   "display_name": "Python 3",
   "language": "python",
   "name": "python3"
  },
  "language_info": {
   "codemirror_mode": {
    "name": "ipython",
    "version": 3
   },
   "file_extension": ".py",
   "mimetype": "text/x-python",
   "name": "python",
   "nbconvert_exporter": "python",
   "pygments_lexer": "ipython3",
   "version": "3.6.9"
  }
 },
 "nbformat": 4,
 "nbformat_minor": 5
}
