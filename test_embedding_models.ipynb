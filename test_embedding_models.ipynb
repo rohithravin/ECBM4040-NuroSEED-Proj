{
 "cells": [
  {
   "cell_type": "markdown",
   "id": "c016345f",
   "metadata": {},
   "source": [
    "# ECBM 4040 Fall '21 Project  - BIOM Group"
   ]
  },
  {
   "cell_type": "markdown",
   "id": "638cf1a6",
   "metadata": {},
   "source": [
    "## Initialization"
   ]
  },
  {
   "cell_type": "code",
   "execution_count": 7,
   "id": "a09d5361",
   "metadata": {},
   "outputs": [
    {
     "name": "stdout",
     "output_type": "stream",
     "text": [
      "The autoreload extension is already loaded. To reload it, use:\n",
      "  %reload_ext autoreload\n"
     ]
    }
   ],
   "source": [
    "import numpy as np\n",
    "import tensorflow as tf\n",
    "import pickle\n",
    "from matplotlib import pyplot as plt\n",
    "\n",
    "import shutil\n",
    "import os\n",
    "\n",
    "from model.models_cstm import get_embedding_model\n",
    "from model.train_model import train_siamese_model\n",
    "\n",
    "# Notebook auto reloads code. (Ref: http://stackoverflow.com/questions/1907993/autoreload-of-modules-in-ipython)\n",
    "%load_ext autoreload\n",
    "%autoreload 2"
   ]
  },
  {
   "cell_type": "code",
   "execution_count": 8,
   "id": "eec42589",
   "metadata": {},
   "outputs": [],
   "source": [
    "DISTANCE_METRICS = {\n",
    "    'EUCLIDEAN': 'euclidean',\n",
    "    'HYPERBOLIC': 'hyperbolic',\n",
    "    'MANHATTAN': 'manhattan',\n",
    "    'SQUARE': 'square',\n",
    "    'COSINE': 'cosine'\n",
    "}"
   ]
  },
  {
   "cell_type": "code",
   "execution_count": 9,
   "id": "667d55bd",
   "metadata": {},
   "outputs": [],
   "source": [
    "# set random number seeds for reproducible results\n",
    "np.random.seed(1)\n",
    "tf.random.set_seed(1)"
   ]
  },
  {
   "cell_type": "markdown",
   "id": "f4ad4aae",
   "metadata": {},
   "source": [
    "## Get Qiita Data"
   ]
  },
  {
   "cell_type": "code",
   "execution_count": 10,
   "id": "99f6cee0",
   "metadata": {},
   "outputs": [],
   "source": [
    "cwd = os.getcwd()\n",
    "if not os.path.exists(f\"{cwd}/data/qiita/qiita_numpy.pkl\"):\n",
    "    !wget https://www.dropbox.com/s/mv546rx259tgwaz/qiita_numpy.pkl\n",
    "    shutil.move(f\"{cwd}/qiita_numpy.pkl\", f\"{cwd}/data/qiita/qiita_numpy.pkl\")"
   ]
  },
  {
   "cell_type": "markdown",
   "id": "2f24c59e",
   "metadata": {},
   "source": [
    "## Load Qiita Dataset"
   ]
  },
  {
   "cell_type": "code",
   "execution_count": 11,
   "id": "cfbb0de6",
   "metadata": {},
   "outputs": [],
   "source": [
    "# Load QIITA dataset.\n",
    "((X_train, X_test, X_val), (y_train, y_test, y_val)) = pickle.load(open(f\"{cwd}/data/qiita/qiita_numpy.pkl\", \"rb\"))"
   ]
  },
  {
   "cell_type": "markdown",
   "id": "cc92e9df",
   "metadata": {},
   "source": [
    "## Train Siamese Model using Different Embedding models"
   ]
  },
  {
   "cell_type": "code",
   "execution_count": null,
   "id": "efc5c110",
   "metadata": {},
   "outputs": [
    {
     "name": "stdout",
     "output_type": "stream",
     "text": [
      "\n",
      "Beginning to test LINEAR model.\n",
      "Model: \"sequential_1\"\n",
      "_________________________________________________________________\n",
      "Layer (type)                 Output Shape              Param #   \n",
      "=================================================================\n",
      "dropout_1 (Dropout)          (None, 152)               0         \n",
      "_________________________________________________________________\n",
      "one_hot_encoding_layer_1 (On (None, 152, 4)            0         \n",
      "_________________________________________________________________\n",
      "flatten_1 (Flatten)          (None, 608)               0         \n",
      "_________________________________________________________________\n",
      "dense_1 (Dense)              (None, 128)               77952     \n",
      "=================================================================\n",
      "Total params: 77,952\n",
      "Trainable params: 77,952\n",
      "Non-trainable params: 0\n",
      "_________________________________________________________________\n"
     ]
    }
   ],
   "source": [
    "data = ((X_train, X_test, X_val), (y_train, y_test, y_val))\n",
    "dist = DISTANCE_METRICS['HYPERBOLIC']\n",
    "\n",
    "BATCH_SIZE = 1024\n",
    "EPOCHS = 3\n",
    "\n",
    "models = []\n",
    "scores = []\n",
    "histories = []\n",
    "\n",
    "model_choices = ['LINEAR', 'MLP', 'CNN']\n",
    "for model_choice in model_choices:\n",
    "    print('\\nBeginning to test {0} model.'.format(model_choice))\n",
    "    embedding = get_embedding_model(model_choice=model_choice)\n",
    "    embedding.summary()\n",
    "    model, score, history = train_siamese_model(data, embedding, dist , batch_size=BATCH_SIZE, epochs=EPOCHS)\n",
    "    models.append(model)\n",
    "    scores.append(score)\n",
    "    histories.append(history)\n",
    "    print(f'Score for Siamese Model using {dist} distance: {score}')"
   ]
  },
  {
   "cell_type": "markdown",
   "id": "4aafa6c4",
   "metadata": {},
   "source": [
    "## Visualize Loss "
   ]
  },
  {
   "cell_type": "code",
   "execution_count": null,
   "id": "be46f942",
   "metadata": {},
   "outputs": [],
   "source": [
    " \n",
    "for i in range(len(model_choices)):\n",
    "    history = histories[i]\n",
    "    plt.plot(history.history['loss'],label=model_choices[i])\n",
    "    #plt.plot(history.history['val_loss'])\n",
    "    plt.title('Training loss')\n",
    "    plt.ylabel('loss')\n",
    "    plt.xlabel('epoch')\n",
    "    plt.legend()\n",
    "plt.show()\n",
    "\n",
    "for i in range(len(model_choices)):\n",
    "    history = histories[i]\n",
    "    plt.plot(history.history['val_loss'],label=model_choices[i])\n",
    "    #plt.plot(history.history['val_loss'])\n",
    "    plt.title('Validation loss')\n",
    "    plt.ylabel('loss')\n",
    "    plt.xlabel('epoch')\n",
    "    plt.legend()\n",
    "plt.show()"
   ]
  },
  {
   "cell_type": "code",
   "execution_count": null,
   "id": "829987f3",
   "metadata": {},
   "outputs": [],
   "source": []
  },
  {
   "cell_type": "code",
   "execution_count": null,
   "id": "86775cd0",
   "metadata": {},
   "outputs": [],
   "source": []
  }
 ],
 "metadata": {
  "kernelspec": {
   "display_name": "Python 3",
   "language": "python",
   "name": "python3"
  },
  "language_info": {
   "codemirror_mode": {
    "name": "ipython",
    "version": 3
   },
   "file_extension": ".py",
   "mimetype": "text/x-python",
   "name": "python",
   "nbconvert_exporter": "python",
   "pygments_lexer": "ipython3",
   "version": "3.6.9"
  }
 },
 "nbformat": 4,
 "nbformat_minor": 5
}
