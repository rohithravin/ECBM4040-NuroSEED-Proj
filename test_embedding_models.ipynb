{
 "cells": [
  {
   "cell_type": "markdown",
   "id": "c016345f",
   "metadata": {},
   "source": [
    "# ECBM 4040 Fall '21 Project  - BIOM Group"
   ]
  },
  {
   "cell_type": "markdown",
   "id": "638cf1a6",
   "metadata": {},
   "source": [
    "## Initialization"
   ]
  },
  {
   "cell_type": "code",
   "execution_count": 7,
   "id": "a09d5361",
   "metadata": {},
   "outputs": [
    {
     "name": "stdout",
     "output_type": "stream",
     "text": [
      "The autoreload extension is already loaded. To reload it, use:\n",
      "  %reload_ext autoreload\n"
     ]
    }
   ],
   "source": [
    "import numpy as np\n",
    "import tensorflow as tf\n",
    "import pickle\n",
    "from matplotlib import pyplot as plt\n",
    "\n",
    "import shutil\n",
    "import os\n",
    "\n",
    "from model.models_cstm import get_embedding_model\n",
    "from model.train_model import train_siamese_model\n",
    "\n",
    "# Notebook auto reloads code. (Ref: http://stackoverflow.com/questions/1907993/autoreload-of-modules-in-ipython)\n",
    "%load_ext autoreload\n",
    "%autoreload 2"
   ]
  },
  {
   "cell_type": "code",
   "execution_count": 8,
   "id": "eec42589",
   "metadata": {},
   "outputs": [],
   "source": [
    "DISTANCE_METRICS = {\n",
    "    'EUCLIDEAN': 'euclidean',\n",
    "    'HYPERBOLIC': 'hyperbolic',\n",
    "    'MANHATTAN': 'manhattan',\n",
    "    'SQUARE': 'square',\n",
    "    'COSINE': 'cosine'\n",
    "}"
   ]
  },
  {
   "cell_type": "code",
   "execution_count": 9,
   "id": "667d55bd",
   "metadata": {},
   "outputs": [],
   "source": [
    "# set random number seeds for reproducible results\n",
    "np.random.seed(1)\n",
    "tf.random.set_seed(1)"
   ]
  },
  {
   "cell_type": "markdown",
   "id": "f4ad4aae",
   "metadata": {},
   "source": [
    "## Get Qiita Data"
   ]
  },
  {
   "cell_type": "code",
   "execution_count": 10,
   "id": "99f6cee0",
   "metadata": {},
   "outputs": [],
   "source": [
    "cwd = os.getcwd()\n",
    "if not os.path.exists(f\"{cwd}/data/qiita/qiita_numpy.pkl\"):\n",
    "    !wget https://www.dropbox.com/s/mv546rx259tgwaz/qiita_numpy.pkl\n",
    "    shutil.move(f\"{cwd}/qiita_numpy.pkl\", f\"{cwd}/data/qiita/qiita_numpy.pkl\")"
   ]
  },
  {
   "cell_type": "markdown",
   "id": "2f24c59e",
   "metadata": {},
   "source": [
    "## Load Qiita Dataset"
   ]
  },
  {
   "cell_type": "code",
   "execution_count": 11,
   "id": "cfbb0de6",
   "metadata": {},
   "outputs": [],
   "source": [
    "# Load QIITA dataset.\n",
    "((X_train, X_test, X_val), (y_train, y_test, y_val)) = pickle.load(open(f\"{cwd}/data/qiita/qiita_numpy.pkl\", \"rb\"))"
   ]
  },
  {
   "cell_type": "markdown",
   "id": "cc92e9df",
   "metadata": {},
   "source": [
    "## Train Siamese Model using Different Embedding models"
   ]
  },
  {
   "cell_type": "code",
   "execution_count": 12,
   "id": "efc5c110",
   "metadata": {},
   "outputs": [
    {
     "name": "stdout",
     "output_type": "stream",
     "text": [
      "\n",
      "Beginning to test CNN model.\n",
      "Model: \"sequential_1\"\n",
      "_________________________________________________________________\n",
      "Layer (type)                 Output Shape              Param #   \n",
      "=================================================================\n",
      "dropout_1 (Dropout)          (None, 152)               0         \n",
      "_________________________________________________________________\n",
      "one_hot_encoding_layer_1 (On (None, 152, 4)            0         \n",
      "_________________________________________________________________\n",
      "flatten_2 (Flatten)          (None, 608)               0         \n",
      "_________________________________________________________________\n",
      "reshape_1 (Reshape)          (None, 608, 1)            0         \n",
      "_________________________________________________________________\n",
      "conv1d_2 (Conv1D)            (None, 608, 4)            16        \n",
      "_________________________________________________________________\n",
      "batch_normalization_2 (Batch (None, 608, 4)            16        \n",
      "_________________________________________________________________\n",
      "average_pooling1d_2 (Average (None, 304, 4)            0         \n",
      "_________________________________________________________________\n",
      "conv1d_3 (Conv1D)            (None, 304, 4)            52        \n",
      "_________________________________________________________________\n",
      "batch_normalization_3 (Batch (None, 304, 4)            16        \n",
      "_________________________________________________________________\n",
      "average_pooling1d_3 (Average (None, 152, 4)            0         \n",
      "_________________________________________________________________\n",
      "flatten_3 (Flatten)          (None, 608)               0         \n",
      "_________________________________________________________________\n",
      "dense_1 (Dense)              (None, 128)               77952     \n",
      "=================================================================\n",
      "Total params: 78,052\n",
      "Trainable params: 78,036\n",
      "Non-trainable params: 16\n",
      "_________________________________________________________________\n",
      "Epoch 1/3\n",
      "23922/23922 [==============================] - 691s 29ms/step - loss: 709.7609 - val_loss: 97.1566\n",
      "Epoch 2/3\n",
      "23922/23922 [==============================] - 692s 29ms/step - loss: 58.5488 - val_loss: 74.1495\n",
      "Epoch 3/3\n",
      "23922/23922 [==============================] - 694s 29ms/step - loss: 42.5872 - val_loss: 65.6776\n",
      "1097/1097 [==============================] - 16s 15ms/step - loss: 64.6134\n",
      "Score for Siamese Model using euclidean distance: 64.6134033203125\n",
      "\n",
      "Beginning to test MLP model.\n",
      "Model: \"sequential_2\"\n",
      "_________________________________________________________________\n",
      "Layer (type)                 Output Shape              Param #   \n",
      "=================================================================\n",
      "dropout_2 (Dropout)          (None, 152)               0         \n",
      "_________________________________________________________________\n",
      "one_hot_encoding_layer_2 (On (None, 152, 4)            0         \n",
      "_________________________________________________________________\n",
      "flatten_4 (Flatten)          (None, 608)               0         \n",
      "_________________________________________________________________\n",
      "dense_2 (Dense)              (None, 128)               77952     \n",
      "_________________________________________________________________\n",
      "dense_3 (Dense)              (None, 128)               16512     \n",
      "_________________________________________________________________\n",
      "dense_4 (Dense)              (None, 128)               16512     \n",
      "=================================================================\n",
      "Total params: 110,976\n",
      "Trainable params: 110,976\n",
      "Non-trainable params: 0\n",
      "_________________________________________________________________\n",
      "Epoch 1/3\n",
      "23922/23922 [==============================] - 407s 17ms/step - loss: 57.4515 - val_loss: 62.2211\n",
      "Epoch 2/3\n",
      "23922/23922 [==============================] - 406s 17ms/step - loss: 29.6574 - val_loss: 53.7024\n",
      "Epoch 3/3\n",
      "23922/23922 [==============================] - 406s 17ms/step - loss: 24.8875 - val_loss: 48.1856\n",
      "1097/1097 [==============================] - 10s 9ms/step - loss: 48.3570\n",
      "Score for Siamese Model using euclidean distance: 48.356971740722656\n",
      "\n",
      "Beginning to test LINEAR model.\n",
      "Model: \"sequential_3\"\n",
      "_________________________________________________________________\n",
      "Layer (type)                 Output Shape              Param #   \n",
      "=================================================================\n",
      "dropout_3 (Dropout)          (None, 152)               0         \n",
      "_________________________________________________________________\n",
      "one_hot_encoding_layer_3 (On (None, 152, 4)            0         \n",
      "_________________________________________________________________\n",
      "flatten_5 (Flatten)          (None, 608)               0         \n",
      "_________________________________________________________________\n",
      "dense_5 (Dense)              (None, 128)               77952     \n",
      "=================================================================\n",
      "Total params: 77,952\n",
      "Trainable params: 77,952\n",
      "Non-trainable params: 0\n",
      "_________________________________________________________________\n",
      "Epoch 1/3\n",
      "23922/23922 [==============================] - 295s 12ms/step - loss: 30.2588 - val_loss: 43.2054\n",
      "Epoch 2/3\n",
      "23922/23922 [==============================] - 295s 12ms/step - loss: 22.6672 - val_loss: 39.4312\n",
      "Epoch 3/3\n",
      "23922/23922 [==============================] - 296s 12ms/step - loss: 21.1486 - val_loss: 37.4284\n",
      "1097/1097 [==============================] - 9s 8ms/step - loss: 40.0889\n",
      "Score for Siamese Model using euclidean distance: 40.088897705078125\n"
     ]
    }
   ],
   "source": [
    "data = ((X_train, X_test, X_val), (y_train, y_test, y_val))\n",
    "dist = DISTANCE_METRICS['EUCLIDEAN']\n",
    "\n",
    "BATCH_SIZE = 1024\n",
    "EPOCHS = 3\n",
    "\n",
    "models = []\n",
    "scores = []\n",
    "histories = []\n",
    "\n",
    "model_choices = ['CNN', 'MLP', 'LINEAR']\n",
    "for model_choice in model_choices:\n",
    "    print('\\nBeginning to test {0} model.'.format(model_choice))\n",
    "    embedding = get_embedding_model(model_choice=model_choice)\n",
    "    embedding.summary()\n",
    "    model, score, history = train_siamese_model(data, embedding, dist , batch_size=BATCH_SIZE, epochs=EPOCHS)\n",
    "    models.append(model)\n",
    "    scores.append(score)\n",
    "    histories.append(history)\n",
    "    print(f'Score for Siamese Model using {dist} distance: {score}')"
   ]
  },
  {
   "cell_type": "markdown",
   "id": "4aafa6c4",
   "metadata": {},
   "source": [
    "## Visualize Loss "
   ]
  },
  {
   "cell_type": "code",
   "execution_count": 13,
   "id": "be46f942",
   "metadata": {},
   "outputs": [
    {
     "data": {
      "image/png": "[encoded data removed]",
      "text/plain": [
       "<Figure size 432x288 with 1 Axes>"
      ]
     },
     "metadata": {
      "needs_background": "light"
     },
     "output_type": "display_data"
    },
    {
     "data": {
      "image/png": "[encoded data removed]",
      "text/plain": [
       "<Figure size 432x288 with 1 Axes>"
      ]
     },
     "metadata": {
      "needs_background": "light"
     },
     "output_type": "display_data"
    }
   ],
   "source": [
    " \n",
    "for i in range(len(model_choices)):\n",
    "    history = histories[i]\n",
    "    plt.plot(history.history['loss'],label=model_choices[i])\n",
    "    #plt.plot(history.history['val_loss'])\n",
    "    plt.title('Training loss')\n",
    "    plt.ylabel('loss')\n",
    "    plt.xlabel('epoch')\n",
    "    plt.legend()\n",
    "plt.show()\n",
    "\n",
    "for i in range(len(model_choices)):\n",
    "    history = histories[i]\n",
    "    plt.plot(history.history['val_loss'],label=model_choices[i])\n",
    "    #plt.plot(history.history['val_loss'])\n",
    "    plt.title('Validation loss')\n",
    "    plt.ylabel('loss')\n",
    "    plt.xlabel('epoch')\n",
    "    plt.legend()\n",
    "plt.show()"
   ]
  },
  {
   "cell_type": "code",
   "execution_count": 3,
   "id": "4785df9e",
   "metadata": {},
   "outputs": [
    {
     "name": "stdout",
     "output_type": "stream",
     "text": [
      "Updating Homebrew...\n",
      "^C\n",
      "zsh:1: command not found: tree\n"
     ]
    }
   ],
   "source": []
  },
  {
   "cell_type": "code",
   "execution_count": null,
   "id": "897fb711",
   "metadata": {},
   "outputs": [],
   "source": []
  }
 ],
 "metadata": {
  "kernelspec": {
   "display_name": "Python 3 (ipykernel)",
   "language": "python",
   "name": "python3"
  },
  "language_info": {
   "codemirror_mode": {
    "name": "ipython",
    "version": 3
   },
   "file_extension": ".py",
   "mimetype": "text/x-python",
   "name": "python",
   "nbconvert_exporter": "python",
   "pygments_lexer": "ipython3",
   "version": "3.8.11"
  }
 },
 "nbformat": 4,
 "nbformat_minor": 5
}
