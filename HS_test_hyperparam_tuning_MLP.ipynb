{
 "cells": [
  {
   "cell_type": "markdown",
   "id": "c016345f",
   "metadata": {},
   "source": [
    "# ECBM 4040 Fall '21 Project  - BIOM Group"
   ]
  },
  {
   "cell_type": "markdown",
   "id": "e7875f48",
   "metadata": {},
   "source": [
    "# Hyperparameter Tuning: NeuroSEED Linear Model (with gradient clipping)\n",
    "\n",
    "In this notebook, we will compare the various the distance functions and their respective loss. We will also do hyperparameter tunning for the hyperbolic and euclidean distance and see what hyperparmeters are best and how they differ from the papers hyperparamters. This is all doing with the MLP archecture of our Deep Learning Model."
   ]
  },
  {
   "cell_type": "markdown",
   "id": "cabd1825",
   "metadata": {},
   "source": [
    "## Initialization"
   ]
  },
  {
   "cell_type": "code",
   "execution_count": null,
   "id": "a09d5361",
   "metadata": {},
   "outputs": [],
   "source": [
    "import numpy as np\n",
    "import tensorflow as tf\n",
    "import pickle\n",
    "from matplotlib import pyplot as plt\n",
    "\n",
    "import shutil\n",
    "import os\n",
    "\n",
    "from model.models_cstm import get_embedding_model\n",
    "from model.train_model import train_siamese_model\n",
    "\n",
    "!pip3 install keras-tuner\n",
    "import keras_tuner\n"
   ]
  },
  {
   "cell_type": "code",
   "execution_count": 2,
   "id": "eec42589",
   "metadata": {},
   "outputs": [],
   "source": [
    "#mapping of different distances\n",
    "DISTANCE_METRICS = {\n",
    "    'EUCLIDEAN': 'euclidean',\n",
    "    'HYPERBOLIC': 'hyperbolic',\n",
    "    'MANHATTAN': 'manhattan',\n",
    "    'SQUARE': 'square',\n",
    "    'COSINE': 'cosine'\n",
    "}"
   ]
  },
  {
   "cell_type": "code",
   "execution_count": 3,
   "id": "667d55bd",
   "metadata": {},
   "outputs": [],
   "source": [
    "# set random number seeds for reproducible results\n",
    "np.random.seed(1)\n",
    "tf.random.set_seed(1)"
   ]
  },
  {
   "cell_type": "code",
   "execution_count": 4,
   "id": "cccd37d4",
   "metadata": {},
   "outputs": [],
   "source": [
    "# set static parameters\n",
    "MODEL_CHOICE = 'MLP'\n",
    "DEFAULT_BATCH_SIZE = 1024\n",
    "NUM_EPOCHS = 5\n",
    "TRAIN_DAT_LIM = np.nan\n",
    "\n",
    "# set tuning parameters to search over\n",
    "LR_SELECTIONS = [1e-2, 1e-3, 1e-4]\n",
    "DROPOUT_SELECTIONS = [0.3, 0.5, 0.7]\n",
    "ACTIVATION_SELECTIONS = ['relu','relu','tanh']\n",
    "NUM_UNITS_SELECTIONS = [128, 256, 512] # NOTE: Not used for linear model\n",
    "NUM_FILTERS_SELECTIONS = [2,3,4] # NOTE: Not used for linear model\n",
    "#raise('PLACEHOLDER FOR BATCH SIZE')\n"
   ]
  },
  {
   "cell_type": "code",
   "execution_count": 11,
   "id": "693ab677",
   "metadata": {},
   "outputs": [],
   "source": [
    "# set paths\n",
    "dist_res_path = \"results/{0}_clipgrad/\".format(MODEL_CHOICE.lower())\n",
    "\n",
    "try:\n",
    "    os.mkdir(dist_res_path)\n",
    "except:\n",
    "    pass\n",
    "\n",
    "hyp_tuner_project_name=\"random_search_hyp_{0}_clipgrad\".format(MODEL_CHOICE.lower())\n",
    "euc_tuner_project_name=\"random_search_euc_{0}_clipgrad\".format(MODEL_CHOICE.lower())"
   ]
  },
  {
   "cell_type": "markdown",
   "id": "f4ad4aae",
   "metadata": {},
   "source": [
    "## Get Qiita Data"
   ]
  },
  {
   "cell_type": "code",
   "execution_count": 6,
   "id": "99f6cee0",
   "metadata": {},
   "outputs": [],
   "source": [
    "cwd = os.getcwd()\n",
    "if not os.path.exists(f\"{cwd}/data/qiita/qiita_numpy.pkl\"):\n",
    "    !wget https://www.dropbox.com/s/mv546rx259tgwaz/qiita_numpy.pkl\n",
    "    shutil.move(f\"{cwd}/qiita_numpy.pkl\", f\"{cwd}/data/qiita/qiita_numpy.pkl\")"
   ]
  },
  {
   "cell_type": "markdown",
   "id": "2f24c59e",
   "metadata": {},
   "source": [
    "## Load Qiita Dataset"
   ]
  },
  {
   "cell_type": "code",
   "execution_count": 7,
   "id": "cfbb0de6",
   "metadata": {},
   "outputs": [
    {
     "name": "stdout",
     "output_type": "stream",
     "text": [
      "X_train sample:\n",
      "[[2 0 1 ... 1 0 3]\n",
      " [2 0 3 ... 0 3 0]\n",
      " [1 1 3 ... 3 3 1]\n",
      " ...\n",
      " [2 0 3 ... 3 0 0]\n",
      " [2 0 3 ... 0 3 0]\n",
      " [0 0 1 ... 2 0 1]]\n"
     ]
    }
   ],
   "source": [
    "# Load QIITA dataset.\n",
    "((X_train, X_test, X_val), (y_train, y_test, y_val)) = pickle.load(open(f\"{cwd}/data/qiita/qiita_numpy.pkl\", \"rb\"))\n",
    "print('X_train sample:\\n{0}'.format(X_train))\n",
    "dat_lim = TRAIN_DAT_LIM if not np.isnan(TRAIN_DAT_LIM) else len(X_train)\n",
    "data = ((X_train[:dat_lim], X_test[:dat_lim], X_val[:dat_lim]), (y_train[:dat_lim,:dat_lim], y_test[:dat_lim], y_val[:dat_lim,:dat_lim]))"
   ]
  },
  {
   "cell_type": "markdown",
   "id": "cc92e9df",
   "metadata": {},
   "source": [
    "## Distance Function Hyperparam Tuning "
   ]
  },
  {
   "cell_type": "code",
   "execution_count": 8,
   "id": "efc5c110",
   "metadata": {},
   "outputs": [
    {
     "name": "stdout",
     "output_type": "stream",
     "text": [
      "Model: \"sequential\"\n",
      "_________________________________________________________________\n",
      "Layer (type)                 Output Shape              Param #   \n",
      "=================================================================\n",
      "dropout (Dropout)            (None, 152)               0         \n",
      "_________________________________________________________________\n",
      "one_hot_encoding_layer (OneH (None, 152, 4)            0         \n",
      "_________________________________________________________________\n",
      "flatten (Flatten)            (None, 608)               0         \n",
      "_________________________________________________________________\n",
      "dense (Dense)                (None, 128)               77952     \n",
      "_________________________________________________________________\n",
      "dense_1 (Dense)              (None, 128)               16512     \n",
      "_________________________________________________________________\n",
      "dense_2 (Dense)              (None, 128)               16512     \n",
      "=================================================================\n",
      "Total params: 110,976\n",
      "Trainable params: 110,976\n",
      "Non-trainable params: 0\n",
      "_________________________________________________________________\n"
     ]
    },
    {
     "name": "stderr",
     "output_type": "stream",
     "text": [
      "2021-12-19 20:44:48.363155: I tensorflow/compiler/jit/xla_cpu_device.cc:41] Not creating XLA devices, tf_xla_enable_xla_devices not set\n",
      "2021-12-19 20:44:48.363373: I tensorflow/core/platform/cpu_feature_guard.cc:142] This TensorFlow binary is optimized with oneAPI Deep Neural Network Library (oneDNN) to use the following CPU instructions in performance-critical operations:  AVX2 FMA\n",
      "To enable them in other operations, rebuild TensorFlow with the appropriate compiler flags.\n"
     ]
    }
   ],
   "source": [
    "embedding = get_embedding_model(model_choice=MODEL_CHOICE)\n",
    "embedding.summary()"
   ]
  },
  {
   "cell_type": "code",
   "execution_count": 9,
   "id": "2b3b768a",
   "metadata": {},
   "outputs": [
    {
     "name": "stdout",
     "output_type": "stream",
     "text": [
      "Epoch 1/5\n",
      "    3/23922 [..............................] - ETA: 17:05 - loss: 3662.5891"
     ]
    },
    {
     "name": "stderr",
     "output_type": "stream",
     "text": [
      "2021-12-19 20:45:01.710285: I tensorflow/compiler/mlir/mlir_graph_optimization_pass.cc:116] None of the MLIR optimization passes are enabled (registered 2)\n"
     ]
    },
    {
     "name": "stdout",
     "output_type": "stream",
     "text": [
      "23922/23922 [==============================] - 669s 28ms/step - loss: 88.3202 - val_loss: 65.5194\n",
      "Epoch 2/5\n",
      "23922/23922 [==============================] - 654s 27ms/step - loss: 29.9575 - val_loss: 53.5458\n",
      "Epoch 3/5\n",
      "23922/23922 [==============================] - 644s 27ms/step - loss: 25.0253 - val_loss: 48.2446\n",
      "Epoch 4/5\n",
      "23922/23922 [==============================] - 657s 27ms/step - loss: 22.2684 - val_loss: 44.8331\n",
      "Epoch 5/5\n",
      "23922/23922 [==============================] - 654s 27ms/step - loss: 20.4138 - val_loss: 42.7209\n",
      "1097/1097 [==============================] - 13s 12ms/step - loss: 44.2198\n",
      "Epoch 1/5\n",
      "23922/23922 [==============================] - 846s 35ms/step - loss: 1831.3723 - val_loss: 1412.4454\n",
      "Epoch 2/5\n",
      "23922/23922 [==============================] - 815s 34ms/step - loss: 1339.2869 - val_loss: 1189.5864\n",
      "Epoch 3/5\n",
      "23922/23922 [==============================] - 802s 34ms/step - loss: 1173.0193 - val_loss: 1068.3843\n",
      "Epoch 4/5\n",
      "23922/23922 [==============================] - 803s 34ms/step - loss: 1071.0815 - val_loss: 987.1178\n",
      "Epoch 5/5\n",
      "23922/23922 [==============================] - 573s 24ms/step - loss: 999.7524 - val_loss: 926.6472\n",
      "1097/1097 [==============================] - 11s 10ms/step - loss: 978.5388\n",
      "Epoch 1/5\n",
      "23922/23922 [==============================] - 448s 19ms/step - loss: 305054280056832.0000 - val_loss: 5475316269056.0000\n",
      "Epoch 2/5\n",
      "23922/23922 [==============================] - 444s 19ms/step - loss: 584254816256.0000 - val_loss: 1717.6245\n",
      "Epoch 3/5\n",
      "23922/23922 [==============================] - 446s 19ms/step - loss: 136.7873 - val_loss: 85.5698\n",
      "Epoch 4/5\n",
      "23922/23922 [==============================] - 447s 19ms/step - loss: 76.7370 - val_loss: 66.7243\n",
      "Epoch 5/5\n",
      "23922/23922 [==============================] - 447s 19ms/step - loss: 68.9090 - val_loss: 65.1334\n",
      "1097/1097 [==============================] - 9s 8ms/step - loss: 2097.0378\n",
      "Epoch 1/5\n",
      "23922/23922 [==============================] - 449s 19ms/step - loss: 210.9472 - val_loss: 197.3827\n",
      "Epoch 2/5\n",
      "23922/23922 [==============================] - 447s 19ms/step - loss: 179.6746 - val_loss: 178.4273\n",
      "Epoch 3/5\n",
      "23922/23922 [==============================] - 462s 19ms/step - loss: 171.8753 - val_loss: 175.2693\n",
      "Epoch 4/5\n",
      "23922/23922 [==============================] - 450s 19ms/step - loss: 166.3603 - val_loss: 178.4326\n",
      "Epoch 5/5\n",
      "23922/23922 [==============================] - 449s 19ms/step - loss: 162.1131 - val_loss: 156.9850\n",
      "1097/1097 [==============================] - 9s 8ms/step - loss: 254761.7969\n",
      "Epoch 1/5\n",
      "23922/23922 [==============================] - 512s 21ms/step - loss: 4911.8481 - val_loss: 4806.7144\n",
      "Epoch 2/5\n",
      "23922/23922 [==============================] - 512s 21ms/step - loss: 4911.8599 - val_loss: 4807.0371\n",
      "Epoch 3/5\n",
      "23922/23922 [==============================] - 508s 21ms/step - loss: 4911.8574 - val_loss: 4807.4702\n",
      "Epoch 4/5\n",
      "23922/23922 [==============================] - 511s 21ms/step - loss: 4911.8545 - val_loss: 4806.8931\n",
      "Epoch 5/5\n",
      "23922/23922 [==============================] - 510s 21ms/step - loss: 4911.8638 - val_loss: 4806.8735\n",
      "1097/1097 [==============================] - 9s 9ms/step - loss: 4932.4590\n"
     ]
    }
   ],
   "source": [
    "# get training metrics when distance is EUCLIDEAN, dump to pickle\n",
    "model_EUCLIDEAN, score, history = train_siamese_model(data, embedding, DISTANCE_METRICS['EUCLIDEAN'], batch_size=DEFAULT_BATCH_SIZE, epochs=NUM_EPOCHS)\n",
    "dist_func_tunning_EUCLIDEAN = {'score': score, 'history': history.history}\n",
    "file_to_write = open( dist_res_path + \"dist_func_tunning_EUCLIDEAN.pkl\", \"wb\" )\n",
    "pickle.dump(dist_func_tunning_EUCLIDEAN, file_to_write)\n",
    "\n",
    "# get training metrics when distance is HYPERBOLIC, dump to pickle\n",
    "model_HYPERBOLIC, score, history = train_siamese_model(data, embedding, DISTANCE_METRICS['HYPERBOLIC'], batch_size=DEFAULT_BATCH_SIZE, epochs=NUM_EPOCHS)\n",
    "dist_func_tunning_HYPERBOLIC = {'score': score, 'history': history.history}\n",
    "file_to_write = open( dist_res_path + \"dist_func_tunning_HYPERBOLIC.pkl\", \"wb\" )\n",
    "pickle.dump(dist_func_tunning_HYPERBOLIC, file_to_write)\n",
    "\n",
    "# get training metrics when distance is MANHATTAN, dump to pickle\n",
    "model_MANHATTAN, score, history = train_siamese_model(data, embedding, DISTANCE_METRICS['MANHATTAN'], batch_size=DEFAULT_BATCH_SIZE, epochs=NUM_EPOCHS)\n",
    "dist_func_tunning_MANHATTAN = {'score': score, 'history': history.history}\n",
    "file_to_write = open( dist_res_path + \"dist_func_tunning_MANHATTAN.pkl\", \"wb\" )\n",
    "pickle.dump(dist_func_tunning_MANHATTAN, file_to_write)\n",
    "\n",
    "# get training metrics when distance is SQUARE, dump to pickle\n",
    "model_SQUARE, score, history = train_siamese_model(data, embedding, DISTANCE_METRICS['SQUARE'], batch_size=DEFAULT_BATCH_SIZE, epochs=NUM_EPOCHS)\n",
    "dist_func_tunning_SQUARE = {'score': score, 'history': history.history}\n",
    "file_to_write = open( dist_res_path + \"dist_func_tunning_SQUARE.pkl\", \"wb\" )\n",
    "pickle.dump(dist_func_tunning_SQUARE, file_to_write)\n",
    "\n",
    "# get training metrics when distance is COSINE, dump to pickle\n",
    "model_COSINE, score, history = train_siamese_model(data, embedding, DISTANCE_METRICS['COSINE'], batch_size=DEFAULT_BATCH_SIZE, epochs=NUM_EPOCHS)\n",
    "dist_func_tunning_COSINE = {'score': score, 'history': history.history}\n",
    "file_to_write = open( dist_res_path + \"dist_func_tunning_COSINE.pkl\", \"wb\" )\n",
    "pickle.dump(dist_func_tunning_COSINE, file_to_write)\n",
    "\n"
   ]
  },
  {
   "cell_type": "code",
   "execution_count": 11,
   "id": "7456747d",
   "metadata": {},
   "outputs": [],
   "source": []
  },
  {
   "cell_type": "markdown",
   "id": "4aafa6c4",
   "metadata": {},
   "source": [
    "## Visualize Dist_Func_Tunning \n",
    "We will now show some plots, highlighting the vast diffences in the loss between the various distance functions."
   ]
  },
  {
   "cell_type": "code",
   "execution_count": 13,
   "id": "be46f942",
   "metadata": {},
   "outputs": [],
   "source": [
    "objects = {}\n",
    "#get model training metrics from all the pickle files\n",
    "dist_res_path = dist_res_path\n",
    "for key in DISTANCE_METRICS.keys():\n",
    "    file = f'{dist_res_path}dist_func_tunning_{key}.pkl'\n",
    "    with (open(file, \"rb\")) as openfile:\n",
    "        objects[key] = pickle.load(openfile)"
   ]
  },
  {
   "cell_type": "code",
   "execution_count": 14,
   "id": "bfd1f383",
   "metadata": {},
   "outputs": [
    {
     "data": {
      "image/png": "[encoded data removed]",
      "text/plain": [
       "<Figure size 432x288 with 1 Axes>"
      ]
     },
     "metadata": {
      "needs_background": "light"
     },
     "output_type": "display_data"
    }
   ],
   "source": [
    "# plot loss for all distances\n",
    "for key in DISTANCE_METRICS.keys():    \n",
    "    plt.plot(objects[key]['history']['loss'])\n",
    "plt.title('model accuracy')\n",
    "plt.ylabel('loss')\n",
    "plt.xlabel('epoch')\n",
    "plt.legend(list(DISTANCE_METRICS.keys()), loc='upper left')\n",
    "plt.show()"
   ]
  },
  {
   "cell_type": "markdown",
   "id": "117331ed",
   "metadata": {},
   "source": [
    "Notice we have a huge dispersion and variance of the loss with respect to the distance functions. Lets take a closer look at the ones that are really low in the plot below."
   ]
  },
  {
   "cell_type": "code",
   "execution_count": 15,
   "id": "0b4d2144",
   "metadata": {},
   "outputs": [
    {
     "data": {
      "image/png": "[encoded data removed]",
      "text/plain": [
       "<Figure size 432x288 with 1 Axes>"
      ]
     },
     "metadata": {
      "needs_background": "light"
     },
     "output_type": "display_data"
    }
   ],
   "source": [
    "for key in ['EUCLIDEAN', 'HYPERBOLIC']: \n",
    "    if key != 'MANHATTAN' or key != 'SQUARE' or key != 'COSINE':\n",
    "        plt.plot(objects[key]['history']['loss'])\n",
    "plt.title('model accuracy')\n",
    "plt.ylabel('loss')\n",
    "plt.xlabel('epoch')\n",
    "plt.legend(['EUCLIDEAN', 'HYPERBOLIC'], loc='upper left')\n",
    "plt.show()"
   ]
  },
  {
   "cell_type": "code",
   "execution_count": 16,
   "id": "8c6d7eb1",
   "metadata": {},
   "outputs": [
    {
     "data": {
      "image/png": "[encoded data removed]",
      "text/plain": [
       "<Figure size 432x288 with 1 Axes>"
      ]
     },
     "metadata": {
      "needs_background": "light"
     },
     "output_type": "display_data"
    }
   ],
   "source": [
    "for key in DISTANCE_METRICS.keys():    \n",
    "    plt.plot(objects[key]['history']['val_loss'])\n",
    "plt.title('model accuracy')\n",
    "plt.ylabel('val_loss')\n",
    "plt.xlabel('epoch')\n",
    "plt.legend(list(DISTANCE_METRICS.keys()), loc='upper left')\n",
    "plt.show()"
   ]
  },
  {
   "cell_type": "markdown",
   "id": "14d4432b",
   "metadata": {},
   "source": [
    "Notice we have a huge dispersion and variance of the val_loss with respect to the distance functions. Lets take a closer look at the ones that are really low in the plot below."
   ]
  },
  {
   "cell_type": "code",
   "execution_count": 17,
   "id": "37fe6c05",
   "metadata": {},
   "outputs": [
    {
     "data": {
      "image/png": "[encoded data removed]",
      "text/plain": [
       "<Figure size 432x288 with 1 Axes>"
      ]
     },
     "metadata": {
      "needs_background": "light"
     },
     "output_type": "display_data"
    }
   ],
   "source": [
    "for key in ['EUCLIDEAN', 'HYPERBOLIC']: \n",
    "    if key != 'MANHATTAN' or key != 'SQUARE' or key != 'COSINE':\n",
    "        plt.plot(objects[key]['history']['val_loss'])\n",
    "plt.title('model accuracy')\n",
    "plt.ylabel('val_loss')\n",
    "plt.xlabel('epoch')\n",
    "plt.legend(['EUCLIDEAN', 'HYPERBOLIC'], loc='upper left')\n",
    "plt.show()"
   ]
  },
  {
   "cell_type": "code",
   "execution_count": null,
   "id": "6ca7c040",
   "metadata": {},
   "outputs": [],
   "source": []
  },
  {
   "cell_type": "code",
   "execution_count": null,
   "id": "6861c7c0",
   "metadata": {},
   "outputs": [],
   "source": []
  },
  {
   "cell_type": "code",
   "execution_count": null,
   "id": "0b410784",
   "metadata": {},
   "outputs": [],
   "source": []
  },
  {
   "cell_type": "markdown",
   "id": "1d5fa695",
   "metadata": {},
   "source": [
    "# HyperParam Tunning with RandomSearchCV"
   ]
  },
  {
   "cell_type": "code",
   "execution_count": 23,
   "id": "b9e26af9",
   "metadata": {},
   "outputs": [],
   "source": [
    "from model.layer import DistanceLayer\n",
    "from model.models_cstm import SiameseModel\n",
    "from model.generator import SequenceDistDataGenerator\n",
    "\n",
    "# followed tutorial from https://www.tensorflow.org/tutorials/keras/keras_tuner to customize RandomSearch\n",
    "# for keras models\n",
    "def model_builder_hyp(hp):\n",
    "    # Model definitions\n",
    "    in1 = tf.keras.layers.Input(name=\"sequence1\", shape=(152,))\n",
    "    in2 = tf.keras.layers.Input(name=\"sequence2\", shape=(152,))\n",
    "    \n",
    "    #add activition func, and dropout valuse to the grid search for RandomCV\n",
    "    hp_act_func = hp.Choice('act_func', values=ACTIVATION_SELECTIONS)\n",
    "    hp_dropout = hp.Choice('dropout', values=DROPOUT_SELECTIONS)\n",
    "    hp_num_units = hp.Choice('mlp_num_units_hidden', values=NUM_UNITS_SELECTIONS)\n",
    "#     hp_num_filters = hp.Choice('cnn_num_filters', values=NUM_FILTERS_SELECTIONS)\n",
    "    \n",
    "    # get embedding model\n",
    "    embedding_model = get_embedding_model(model_choice=MODEL_CHOICE, act_func=hp_act_func, dropout=hp_dropout,\n",
    "                                    mlp_num_units_hidden=hp_num_units )\n",
    "    \n",
    "    # create distance, will compute distance from two embeddings\n",
    "    distance = DistanceLayer(metric=DISTANCE_METRICS['HYPERBOLIC'], dynamic=True)(\n",
    "        embedding_model(in1), \n",
    "        embedding_model(in2)\n",
    "    )\n",
    "    \n",
    "    # create keras model\n",
    "    siamese_network = tf.keras.models.Model(\n",
    "        inputs=[in1, in2],\n",
    "        outputs=distance\n",
    "    )\n",
    "    \n",
    "    # add learning rate to search grid for RandomSearch\n",
    "    hp_learning_rate = hp.Choice('learning_rate', values=LR_SELECTIONS)\n",
    "    optimizer  = tf.keras.optimizers.Adam(hp_learning_rate, clipnorm=1)\n",
    "    \n",
    "    model = SiameseModel(siamese_network) # Depends on SiameseModel class, which we can define elsewhere\n",
    "    model.compile(optimizer=optimizer) # run_eagerly is not necessary, but useful for debugging\n",
    "    \n",
    "    return model\n",
    "\n",
    "def model_builder_euc(hp):\n",
    "    # Model definitions\n",
    "    in1 = tf.keras.layers.Input(name=\"sequence1\", shape=(152,))\n",
    "    in2 = tf.keras.layers.Input(name=\"sequence2\", shape=(152,))\n",
    "    \n",
    "    #add activition func, and dropout valuse to the grid search for RandomCV\n",
    "    hp_act_func = hp.Choice('act_func', values=ACTIVATION_SELECTIONS)\n",
    "    hp_dropout = hp.Choice('dropout', values=DROPOUT_SELECTIONS)\n",
    "    hp_num_units = hp.Choice('mlp_num_units_hidden', values=NUM_UNITS_SELECTIONS)\n",
    "#     hp_num_filters = hp.Choice('cnn_num_filters', values=NUM_FILTERS_SELECTIONS)\n",
    "    \n",
    "    # get embedding model\n",
    "    embedding_model = get_embedding_model(model_choice=MODEL_CHOICE, act_func=hp_act_func, dropout=hp_dropout,\n",
    "                                    mlp_num_units_hidden=hp_num_units      )\n",
    "    \n",
    "    # create distance, will compute distance from two embeddings\n",
    "    distance = DistanceLayer(metric=DISTANCE_METRICS['EUCLIDEAN'], dynamic=True)(\n",
    "        embedding_model(in1), \n",
    "        embedding_model(in2)\n",
    "    )\n",
    "    \n",
    "    # create keras model\n",
    "    siamese_network = tf.keras.models.Model(\n",
    "        inputs=[in1, in2],\n",
    "        outputs=distance\n",
    "    )\n",
    "    \n",
    "    # add learning rate to search grid for RandomSearch\n",
    "    hp_learning_rate = hp.Choice('learning_rate', values=LR_SELECTIONS)\n",
    "    optimizer  = tf.keras.optimizers.Adam(hp_learning_rate, clipnorm=1)\n",
    "    \n",
    "    model = SiameseModel(siamese_network) # Depends on SiameseModel class, which we can define elsewhere\n",
    "    model.compile(optimizer=optimizer) # run_eagerly is not necessary, but useful for debugging\n",
    "    \n",
    "    return model\n",
    "\n",
    "class MyTuner(keras_tuner.tuners.RandomSearch):\n",
    "    def run_trial(self, trial, *args, **kwargs):\n",
    "        # You can add additional HyperParameters for preprocessing and custom training loops\n",
    "        # via overriding `run_trial` 256, 512, 1024\n",
    "        kwargs['batch_size'] = trial.hyperparameters.Choice('batch_size', values = [256, 512, 1024])\n",
    "        kwargs['epochs'] = NUM_EPOCHS\n",
    "\n",
    "        X_val, y_val = kwargs['validation_data']\n",
    "        training_generator = SequenceDistDataGenerator( X_train, y_train, batch_size = kwargs['batch_size'] )\n",
    "        kwargs['validation_data'] = SequenceDistDataGenerator( X_val, y_val, batch_size = kwargs['batch_size'])\n",
    "        \n",
    "        return super(MyTuner, self).run_trial(trial, training_generator, **kwargs)"
   ]
  },
  {
   "cell_type": "markdown",
   "id": "367d8c45",
   "metadata": {},
   "source": [
    "## RandomSearchCV Hyperparam Tuning (w/ Hyperbolic)"
   ]
  },
  {
   "cell_type": "code",
   "execution_count": 21,
   "id": "86775cd0",
   "metadata": {},
   "outputs": [
    {
     "name": "stdout",
     "output_type": "stream",
     "text": [
      "INFO:tensorflow:Reloading Oracle from existing project hyper_param_tunning/random_search_hyp_mlp_clipgrad/oracle.json\n",
      "INFO:tensorflow:Reloading Tuner from hyper_param_tunning/random_search_hyp_mlp_clipgrad/tuner0.json\n"
     ]
    }
   ],
   "source": [
    "# Uses same arguments as the BayesianOptimization Tuner.\n",
    "tuner = MyTuner(model_builder_hyp, objective='val_loss' , directory='hyper_param_tunning',\n",
    "                     project_name=hyp_tuner_project_name, max_trials=6)\n",
    "\n",
    "# Don't pass epochs or batch_size here, let the Tuner tune them.\n",
    "# run the code below if you want to start search again\n",
    "# tuner.search(X_train, y_train,  validation_data=(X_val,y_val),\n",
    "#              callbacks= [tf.keras.callbacks.EarlyStopping('val_loss', patience=2)])"
   ]
  },
  {
   "cell_type": "code",
   "execution_count": 13,
   "id": "f86c13ed",
   "metadata": {},
   "outputs": [],
   "source": [
    "# Get the optimal hyperparameters\n",
    "best_hps_HYPERBOLIC=tuner.get_best_hyperparameters(num_trials=1)[0]\n",
    "best_hps_HYPERBOLIC\n",
    "file_to_write = open( dist_res_path + \"best_hyps_HYPERBOLIC.pkl\", \"wb\")\n",
    "pickle.dump(best_hps_HYPERBOLIC, file_to_write)\n"
   ]
  },
  {
   "cell_type": "code",
   "execution_count": 22,
   "id": "bc3febda",
   "metadata": {},
   "outputs": [
    {
     "name": "stdout",
     "output_type": "stream",
     "text": [
      "Results summary\n",
      "Results in hyper_param_tunning/random_search_hyp_mlp_clipgrad\n",
      "Showing 1 best trials\n",
      "Objective(name='val_loss', direction='min')\n",
      "Trial summary\n",
      "Hyperparameters:\n",
      "act_func: relu\n",
      "dropout: 0.5\n",
      "mlp_num_units_hidden: 128\n",
      "learning_rate: 0.01\n",
      "batch_size: 256\n",
      "Score: 54.45589065551758\n"
     ]
    }
   ],
   "source": [
    "tuner.results_summary(1)"
   ]
  },
  {
   "cell_type": "markdown",
   "id": "dea0efae",
   "metadata": {},
   "source": [
    "## RandomSearchCV Hyperparam Tuning (w/ Euclidean)"
   ]
  },
  {
   "cell_type": "code",
   "execution_count": null,
   "id": "3b092e2a",
   "metadata": {},
   "outputs": [],
   "source": [
    "# Uses same arguments as the BayesianOptimization Tuner.\n",
    "tuner = MyTuner(model_builder_euc, objective='val_loss', directory='hyper_param_tunning',\n",
    "                     project_name=euc_tuner_project_name,  max_trials=6)\n",
    "\n",
    "# Don't pass epochs or batch_size here, let the Tuner tune them.\n",
    "# run the code below if you want to start search again\n",
    "# tuner.search(X_train, y_train,  validation_data=(X_val,y_val),\n",
    "#              callbacks= [tf.keras.callbacks.EarlyStopping('val_loss', patience=2)])"
   ]
  },
  {
   "cell_type": "code",
   "execution_count": 19,
   "id": "d7fa9224",
   "metadata": {},
   "outputs": [],
   "source": [
    "# Get the optimal hyperparameters\n",
    "best_hps_EUCLIDEAN=tuner.get_best_hyperparameters(num_trials=1)[0]\n",
    "best_hps_EUCLIDEAN\n",
    "file_to_write = open( dist_res_path + \"best_hyps_EUCLIDEAN.pkl\", \"wb\")\n",
    "pickle.dump(best_hps_EUCLIDEAN, file_to_write)"
   ]
  },
  {
   "cell_type": "code",
   "execution_count": 20,
   "id": "b383fee4",
   "metadata": {},
   "outputs": [
    {
     "name": "stdout",
     "output_type": "stream",
     "text": [
      "Results summary\n",
      "Results in hyper_param_tunning/random_search_euc_mlp_clipgrad\n",
      "Showing 1 best trials\n",
      "Objective(name='val_loss', direction='min')\n",
      "Trial summary\n",
      "Hyperparameters:\n",
      "act_func: relu\n",
      "dropout: 0.3\n",
      "mlp_num_units_hidden: 128\n",
      "learning_rate: 0.0001\n",
      "batch_size: 256\n",
      "Score: 32.98936080932617\n"
     ]
    }
   ],
   "source": [
    "tuner.results_summary(1)"
   ]
  },
  {
   "cell_type": "code",
   "execution_count": null,
   "id": "9fded321",
   "metadata": {},
   "outputs": [],
   "source": []
  }
 ],
 "metadata": {
  "kernelspec": {
   "display_name": "Python 3 (ipykernel)",
   "language": "python",
   "name": "python3"
  },
  "language_info": {
   "codemirror_mode": {
    "name": "ipython",
    "version": 3
   },
   "file_extension": ".py",
   "mimetype": "text/x-python",
   "name": "python",
   "nbconvert_exporter": "python",
   "pygments_lexer": "ipython3",
   "version": "3.8.11"
  }
 },
 "nbformat": 4,
 "nbformat_minor": 5
}
